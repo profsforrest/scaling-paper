{
 "cells": [
  {
   "cell_type": "code",
   "execution_count": 1,
   "metadata": {
    "collapsed": false
   },
   "outputs": [],
   "source": [
    "import pandas as pd\n",
    "import matplotlib.pyplot as plt\n",
    "import numpy as np\n",
    "import scipy.stats as st\n",
    "import statsmodels.api as sm\n",
    "import RMA"
   ]
  },
  {
   "cell_type": "code",
   "execution_count": 2,
   "metadata": {
    "collapsed": true
   },
   "outputs": [],
   "source": [
    "import matplotlib as mpl"
   ]
  },
  {
   "cell_type": "code",
   "execution_count": 3,
   "metadata": {
    "collapsed": false
   },
   "outputs": [],
   "source": [
    "%matplotlib inline"
   ]
  },
  {
   "cell_type": "code",
   "execution_count": 4,
   "metadata": {
    "collapsed": false
   },
   "outputs": [],
   "source": [
    "mpl.rcParams['figure.figsize'] = (10,7.15)\n",
    "mpl.rcParams['xtick.labelsize'] = 22\n",
    "mpl.rcParams['ytick.labelsize'] = 22\n",
    "mpl.rcParams['axes.labelsize'] = 28\n",
    "mpl.rcParams['legend.numpoints'] = 1\n",
    "mpl.rcParams['legend.fontsize'] = 26\n",
    "mpl.rcParams['legend.scatterpoints'] = 1\n",
    "mpl.rcParams['lines.linewidth'] = 2\n",
    "mpl.rcParams['lines.markeredgewidth'] = 0\n",
    "mpl.rcParams['figure.titlesize'] = 28\n",
    "mpl.rcParams['figure.dpi'] = 80\n",
    "mpl.rcParams['image.interpolation'] = 'nearest'\n",
    "mpl.rcParams['savefig.dpi'] = 80"
   ]
  },
  {
   "cell_type": "code",
   "execution_count": null,
   "metadata": {
    "collapsed": true
   },
   "outputs": [],
   "source": [
    "data = pd.read_excel('../data/Supplementary_Data_Microprocessors.xls',header=1)"
   ]
  },
  {
   "cell_type": "code",
   "execution_count": null,
   "metadata": {
    "collapsed": false
   },
   "outputs": [],
   "source": [
    "data1 = data[[u'Chip', u'f', u'V',u'P',u'lambda',u'N',u'Achip']]"
   ]
  },
  {
   "cell_type": "code",
   "execution_count": null,
   "metadata": {
    "collapsed": true
   },
   "outputs": [],
   "source": [
    "data2 = data[[u'Chip.1', u'f.1', u'V.1', u'P.1',u'lambda.1', u'N.1', u'Achip.1']]"
   ]
  },
  {
   "cell_type": "code",
   "execution_count": null,
   "metadata": {
    "collapsed": false
   },
   "outputs": [],
   "source": [
    "for c in data2.columns:\n",
    "    name = c.split('.')[0]\n",
    "    data2[name] = data2.loc[:,c]\n",
    "    del data2[c]"
   ]
  },
  {
   "cell_type": "code",
   "execution_count": null,
   "metadata": {
    "collapsed": false
   },
   "outputs": [],
   "source": [
    "df = pd.concat([data1,data2.dropna()])"
   ]
  },
  {
   "cell_type": "code",
   "execution_count": null,
   "metadata": {
    "collapsed": true
   },
   "outputs": [],
   "source": [
    "df['constant']= np.ones(len(df))\n",
    "df['f'] = df['f']*10**6\n",
    "df['size'] = df['lambda']*10**-9\n",
    "del df['lambda']\n",
    "df['N'] = df['N']*10**6"
   ]
  },
  {
   "cell_type": "code",
   "execution_count": null,
   "metadata": {
    "collapsed": false
   },
   "outputs": [],
   "source": [
    "df.columns"
   ]
  },
  {
   "cell_type": "code",
   "execution_count": null,
   "metadata": {
    "collapsed": true
   },
   "outputs": [],
   "source": [
    "df['logN'] = np.log(df.N*10**6)\n",
    "df['Tsys'] = 1.0/df.f"
   ]
  },
  {
   "cell_type": "code",
   "execution_count": null,
   "metadata": {
    "collapsed": true
   },
   "outputs": [],
   "source": [
    "pd"
   ]
  },
  {
   "cell_type": "code",
   "execution_count": null,
   "metadata": {
    "collapsed": false
   },
   "outputs": [],
   "source": [
    "sm.GLS(np.log(df.P),df[['logN','constant']]).fit().summary()"
   ]
  },
  {
   "cell_type": "code",
   "execution_count": null,
   "metadata": {
    "collapsed": false
   },
   "outputs": [],
   "source": [
    "plt.loglog(df.N,df.Tsys,'k.')"
   ]
  },
  {
   "cell_type": "code",
   "execution_count": null,
   "metadata": {
    "collapsed": false
   },
   "outputs": [],
   "source": [
    "sm.GLS(np.log(df.Tsys),df[['logN','constant']]).fit().summary()"
   ]
  },
  {
   "cell_type": "code",
   "execution_count": null,
   "metadata": {
    "collapsed": false
   },
   "outputs": [],
   "source": [
    "plt.loglog(df['size']**2,df.N,'k.')\n",
    "plt.ylabel('# of Transistors')\n",
    "plt.xlabel('Transistor Area ($m^2$)')"
   ]
  },
  {
   "cell_type": "code",
   "execution_count": null,
   "metadata": {
    "collapsed": true
   },
   "outputs": [],
   "source": [
    "df['lsize'] = np.log(df['size'])"
   ]
  },
  {
   "cell_type": "code",
   "execution_count": null,
   "metadata": {
    "collapsed": false
   },
   "outputs": [],
   "source": [
    "sm.GLS(np.log(df['N']),df[['lsize','constant']]).fit().summary()"
   ]
  },
  {
   "cell_type": "code",
   "execution_count": null,
   "metadata": {
    "collapsed": false
   },
   "outputs": [],
   "source": [
    "df[(df.f==300*10**6) & (df.N==7500000)]"
   ]
  },
  {
   "cell_type": "code",
   "execution_count": null,
   "metadata": {
    "collapsed": false
   },
   "outputs": [],
   "source": [
    "df[df.N > 10**6].f.max()/df[df.N > 10**6].f.min()"
   ]
  },
  {
   "cell_type": "code",
   "execution_count": null,
   "metadata": {
    "collapsed": false
   },
   "outputs": [],
   "source": [
    "df[df.N > 10**6]['size'].max()/df[df.N > 10**6]['size'].min()"
   ]
  },
  {
   "cell_type": "code",
   "execution_count": null,
   "metadata": {
    "collapsed": false
   },
   "outputs": [],
   "source": [
    "plt.loglog(df.N,df.P,'k.',label='Measured')\n",
    "plt.loglog(df.N,3.9*(df.V**2)*df.N*((df['size']*10**-9)**1)*df.f,'r.',label='$P=\\epsilon N \\\\times V^2 \\\\times Size \\\\times Freq$')\n",
    "plt.xlabel('# of Transistors')\n",
    "plt.ylabel('Power (W)')\n",
    "plt.legend(loc='lower right')"
   ]
  },
  {
   "cell_type": "code",
   "execution_count": null,
   "metadata": {
    "collapsed": false
   },
   "outputs": [],
   "source": [
    "plt.loglog(df.N,df.P,'k.',label='Measured')\n",
    "plt.loglog(df.N,df.N*((df['size']*10**-9)**1),'r.',label='$P=N \\\\times Size$')\n",
    "plt.xlabel('# of Transistors')\n",
    "plt.ylabel('Power (W)')\n",
    "plt.legend(loc='center left')"
   ]
  },
  {
   "cell_type": "code",
   "execution_count": null,
   "metadata": {
    "collapsed": false
   },
   "outputs": [],
   "source": [
    "RMA.RMARegression(np.log(df.N),np.log(df.N*df['size']))"
   ]
  },
  {
   "cell_type": "code",
   "execution_count": null,
   "metadata": {
    "collapsed": false
   },
   "outputs": [],
   "source": [
    "RMA.RMARegression(np.log(df.N),np.log(df.P))"
   ]
  },
  {
   "cell_type": "code",
   "execution_count": null,
   "metadata": {
    "collapsed": false
   },
   "outputs": [],
   "source": [
    "plt.loglog(df.P,3.9*(df.V**2)*df.N*((df['size']*10**-9)**1)*df.f,'k.')\n",
    "plt.loglog([.01,1000],[.01,1000],'r--',label='Equality')\n",
    "#plt.loglog((df.V**2)*df.N*((df['size']*10**-9)**1)*df.f,'r.',label='$P=N \\\\times V^2 \\\\times Size \\\\times Freq$')\n",
    "plt.xlabel('Measured Power')\n",
    "plt.ylabel('Calculated Power\\n$P=\\epsilon N \\\\times V^2 \\\\times Size \\\\times Freq$')\n",
    "#plt.xlim(1,1000)\n",
    "#plt.ylim(1,1000)\n",
    "plt.legend(loc='lower right')"
   ]
  },
  {
   "cell_type": "code",
   "execution_count": null,
   "metadata": {
    "collapsed": false
   },
   "outputs": [],
   "source": [
    "sm.GLM(np.log(df.P),df[['logN','constant']]).fit().summary()"
   ]
  },
  {
   "cell_type": "code",
   "execution_count": null,
   "metadata": {
    "collapsed": false
   },
   "outputs": [],
   "source": [
    "sm.GLM(np.log(df.f*df['size']*df.N),df[['logN','constant']]).fit().summary()"
   ]
  },
  {
   "cell_type": "code",
   "execution_count": null,
   "metadata": {
    "collapsed": false
   },
   "outputs": [],
   "source": [
    "RMA.RMARegression(np.log(df.N.values),np.log(df.P.values))"
   ]
  },
  {
   "cell_type": "code",
   "execution_count": null,
   "metadata": {
    "collapsed": false
   },
   "outputs": [],
   "source": [
    "RMA.RMARegression(np.log(df.N.values),np.log(df.N.values*df['size'].values*df.f.values))"
   ]
  },
  {
   "cell_type": "code",
   "execution_count": null,
   "metadata": {
    "collapsed": false
   },
   "outputs": [],
   "source": [
    "plt.loglog(df.N,df.Tsys,'k.')"
   ]
  },
  {
   "cell_type": "code",
   "execution_count": null,
   "metadata": {
    "collapsed": false
   },
   "outputs": [],
   "source": [
    "reload(RMA)"
   ]
  },
  {
   "cell_type": "code",
   "execution_count": null,
   "metadata": {
    "collapsed": false
   },
   "outputs": [],
   "source": [
    "RMA.RMARegression(np.log10(df.N.values),np.log10(df.f.values))"
   ]
  },
  {
   "cell_type": "code",
   "execution_count": null,
   "metadata": {
    "collapsed": false
   },
   "outputs": [],
   "source": [
    "RMA.RMARegression(np.log10(df.N.values),np.log10(df.Tsys.values))"
   ]
  },
  {
   "cell_type": "code",
   "execution_count": null,
   "metadata": {
    "collapsed": false
   },
   "outputs": [],
   "source": [
    "RMA.RMARegression(np.log(df.N),np.log(df['size'].values))"
   ]
  },
  {
   "cell_type": "code",
   "execution_count": null,
   "metadata": {
    "collapsed": false
   },
   "outputs": [],
   "source": [
    "RMA.RMARegression(2*np.log(df['size'].values),np.log(df.N))"
   ]
  },
  {
   "cell_type": "code",
   "execution_count": null,
   "metadata": {
    "collapsed": false
   },
   "outputs": [],
   "source": [
    "df.columns"
   ]
  },
  {
   "cell_type": "code",
   "execution_count": null,
   "metadata": {
    "collapsed": false
   },
   "outputs": [],
   "source": [
    "sm.GLM(np.log(df.N),np.c_[2*df.lsize.values,df.constant.values]).fit().summary()"
   ]
  },
  {
   "cell_type": "code",
   "execution_count": null,
   "metadata": {
    "collapsed": false
   },
   "outputs": [],
   "source": [
    "sm.GLM(np.log(df.f),np.c_[2*df.lsize.values,df.constant.values]).fit().summary()"
   ]
  },
  {
   "cell_type": "code",
   "execution_count": null,
   "metadata": {
    "collapsed": false
   },
   "outputs": [],
   "source": [
    "sm.GLM(np.log(df.P),np.c_[2*df.lsize.values,df.constant.values]).fit().summary()"
   ]
  },
  {
   "cell_type": "code",
   "execution_count": null,
   "metadata": {
    "collapsed": true
   },
   "outputs": [],
   "source": []
  }
 ],
 "metadata": {
  "kernelspec": {
   "display_name": "Python 2",
   "language": "python",
   "name": "python2"
  },
  "language_info": {
   "codemirror_mode": {
    "name": "ipython",
    "version": 2
   },
   "file_extension": ".py",
   "mimetype": "text/x-python",
   "name": "python",
   "nbconvert_exporter": "python",
   "pygments_lexer": "ipython2",
   "version": "2.7.10"
  }
 },
 "nbformat": 4,
 "nbformat_minor": 0
}
