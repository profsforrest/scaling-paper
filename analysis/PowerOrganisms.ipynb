{
 "cells": [
  {
   "cell_type": "code",
   "execution_count": 1,
   "metadata": {
    "collapsed": true
   },
   "outputs": [],
   "source": [
    "import pandas as pd\n",
    "import matplotlib.pyplot as plt\n",
    "import numpy as np\n",
    "import scipy.stats as st\n",
    "import scipy.optimize as opt\n",
    "import scipy.special as sp\n",
    "import statsmodels.api as sm\n",
    "import RMA"
   ]
  },
  {
   "cell_type": "code",
   "execution_count": 2,
   "metadata": {
    "collapsed": true
   },
   "outputs": [],
   "source": [
    "import matplotlib as mpl"
   ]
  },
  {
   "cell_type": "code",
   "execution_count": 3,
   "metadata": {
    "collapsed": true
   },
   "outputs": [],
   "source": [
    "%matplotlib inline"
   ]
  },
  {
   "cell_type": "code",
   "execution_count": 818,
   "metadata": {
    "collapsed": false
   },
   "outputs": [],
   "source": [
    "mpl.rcParams['font.family']='serif'\n",
    "mpl.rcParams['font.serif'] = 'Times'\n",
    "mpl.rcParams['font.weight'] = 'bold'\n",
    "mpl.rcParams['text.usetex']=True\n",
    "mpl.rcParams['figure.figsize'] = (10,7.15)\n",
    "mpl.rcParams['xtick.labelsize'] = 22\n",
    "mpl.rcParams['ytick.labelsize'] = 22\n",
    "mpl.rcParams['axes.labelsize'] = 28\n",
    "mpl.rcParams['legend.numpoints'] = 1\n",
    "mpl.rcParams['legend.fontsize'] = 26\n",
    "mpl.rcParams['legend.scatterpoints'] = 1\n",
    "mpl.rcParams['lines.linewidth'] = 2\n",
    "mpl.rcParams['lines.markeredgewidth'] = 0\n",
    "mpl.rcParams['figure.titlesize'] = 28\n",
    "mpl.rcParams['figure.dpi'] = 80\n",
    "mpl.rcParams['image.interpolation'] = 'nearest'\n",
    "mpl.rcParams['savefig.dpi'] = 80\n",
    "mpl.rcParams['patch.linewidth'] = 0.5"
   ]
  },
  {
   "cell_type": "code",
   "execution_count": 5,
   "metadata": {
    "collapsed": true
   },
   "outputs": [],
   "source": [
    "df = pd.read_csv('../data/natureMcNab2008.csv')"
   ]
  },
  {
   "cell_type": "code",
   "execution_count": 6,
   "metadata": {
    "collapsed": false
   },
   "outputs": [
    {
     "data": {
      "text/plain": [
       "Index([u'Order', u'Family', u'Genus', u'Species', u'Genus Species',\n",
       "       u'McNab Name', u'Mass (g)', u'BMR (W)', u'BMR (kJ/h)',\n",
       "       u'Temperature (C)', u'Notes', u'Reference', u'Food', u'Climate',\n",
       "       u'Habitat', u'Substrate', u'Torpor', u'Islands', u'Mountains',\n",
       "       u'Tree Name', u'Notes.1'],\n",
       "      dtype='object')"
      ]
     },
     "execution_count": 6,
     "metadata": {},
     "output_type": "execute_result"
    }
   ],
   "source": [
    "df.columns"
   ]
  },
  {
   "cell_type": "code",
   "execution_count": 7,
   "metadata": {
    "collapsed": false
   },
   "outputs": [
    {
     "data": {
      "text/plain": [
       "(30.4, 40.1)"
      ]
     },
     "execution_count": 7,
     "metadata": {},
     "output_type": "execute_result"
    }
   ],
   "source": [
    "df['Temperature (C)'].min(),df['Temperature (C)'].max()"
   ]
  },
  {
   "cell_type": "code",
   "execution_count": 8,
   "metadata": {
    "collapsed": false
   },
   "outputs": [],
   "source": [
    "data = pd.DataFrame()\n",
    "data_noT = pd.DataFrame()"
   ]
  },
  {
   "cell_type": "code",
   "execution_count": 9,
   "metadata": {
    "collapsed": false
   },
   "outputs": [],
   "source": [
    "data['Mass'] = df['Mass (g)']\n",
    "data_noT['Mass'] = df['Mass (g)']\n",
    "\n",
    "data['BMRW'] = df['BMR (W)']\n",
    "data_noT['BMRW'] = df['BMR (W)']\n",
    "\n",
    "data['BMRkjh'] = df['BMR (kJ/h)']\n",
    "data_noT['BMRkjh'] = df['BMR (kJ/h)']\n",
    "\n",
    "data['Temp'] = df['Temperature (C)']\n",
    "\n",
    "data['constant'] = np.ones(len(df))\n",
    "data_noT['constant'] = np.ones(len(df))"
   ]
  },
  {
   "cell_type": "code",
   "execution_count": 10,
   "metadata": {
    "collapsed": false
   },
   "outputs": [],
   "source": [
    "for c in data.columns:\n",
    "    if c =='constant':\n",
    "        continue\n",
    "    data['log'+c] = np.log10(data[c])\n",
    "    if c != 'Temp':\n",
    "        data_noT['log'+c] = np.log10(data[c])\n",
    "    if c =='Mass':\n",
    "        data['log'+c+'sq'] = np.log10(data[c])**2\n",
    "        data_noT['log'+c+'sq'] = np.log10(data[c])**2"
   ]
  },
  {
   "cell_type": "code",
   "execution_count": 11,
   "metadata": {
    "collapsed": false
   },
   "outputs": [],
   "source": [
    "data = data.dropna()"
   ]
  },
  {
   "cell_type": "code",
   "execution_count": 12,
   "metadata": {
    "collapsed": true
   },
   "outputs": [],
   "source": [
    "data_noT = data_noT.dropna()"
   ]
  },
  {
   "cell_type": "code",
   "execution_count": 13,
   "metadata": {
    "collapsed": false
   },
   "outputs": [],
   "source": [
    "data_noO = data.drop(data.Mass.idxmax())\n",
    "data_noTnoO = data_noT.drop(data_noT.Mass.idxmax())"
   ]
  },
  {
   "cell_type": "code",
   "execution_count": 14,
   "metadata": {
    "collapsed": false
   },
   "outputs": [
    {
     "data": {
      "text/plain": [
       "(447, 637, 446, 636)"
      ]
     },
     "execution_count": 14,
     "metadata": {},
     "output_type": "execute_result"
    }
   ],
   "source": [
    "len(data),len(data_noT),len(data_noO),len(data_noTnoO)"
   ]
  },
  {
   "cell_type": "code",
   "execution_count": 15,
   "metadata": {
    "collapsed": false
   },
   "outputs": [
    {
     "data": {
      "image/png": "[encoded data removed]",
      "text/plain": [
       "<matplotlib.figure.Figure at 0x7fc5c88d94d0>"
      ]
     },
     "metadata": {},
     "output_type": "display_data"
    }
   ],
   "source": [
    "plt.scatter(data.Mass,data.BMRW,c=data.Temp,cmap=plt.get_cmap('viridis'))\n",
    "plt.xscale('log')\n",
    "plt.yscale('log')"
   ]
  },
  {
   "cell_type": "code",
   "execution_count": 16,
   "metadata": {
    "collapsed": false
   },
   "outputs": [
    {
     "data": {
      "text/plain": [
       "RMAResult(slope=0.72359546439967537, intercept=-1.7406845620252889, ci=0.95, slope_ci1=array([ 0.70869914,  0.73849179]), intercept_ci1=array([-1.77429816, -1.70707097]), slope_ci2=array([ 0.70885245,  0.73864511]), intercept_ci2=array([-1.77464411, -1.70741693]), RSquare=0.95117245328999933)"
      ]
     },
     "execution_count": 16,
     "metadata": {},
     "output_type": "execute_result"
    }
   ],
   "source": [
    "RMA.RMARegression(data.logMass,data.logBMRW)"
   ]
  },
  {
   "cell_type": "code",
   "execution_count": 710,
   "metadata": {
    "collapsed": false
   },
   "outputs": [],
   "source": [
    "lin_model = sm.GLS(data_noTnoO.logBMRkjh,data_noTnoO[['logMass','constant']]).fit()\n",
    "quad_model = sm.GLS(data_noTnoO.logBMRkjh,data_noTnoO[['constant','logMass','logMasssq']]).fit()"
   ]
  },
  {
   "cell_type": "code",
   "execution_count": 711,
   "metadata": {
    "collapsed": false
   },
   "outputs": [
    {
     "data": {
      "text/html": [
       "<table class=\"simpletable\">\n",
       "<caption>GLS Regression Results</caption>\n",
       "<tr>\n",
       "  <th>Dep. Variable:</th>        <td>logBMRkjh</td>    <th>  R-squared:         </th> <td>   0.961</td>\n",
       "</tr>\n",
       "<tr>\n",
       "  <th>Model:</th>                   <td>GLS</td>       <th>  Adj. R-squared:    </th> <td>   0.960</td>\n",
       "</tr>\n",
       "<tr>\n",
       "  <th>Method:</th>             <td>Least Squares</td>  <th>  F-statistic:       </th> <td>   7706.</td>\n",
       "</tr>\n",
       "<tr>\n",
       "  <th>Date:</th>             <td>Thu, 17 Dec 2015</td> <th>  Prob (F-statistic):</th>  <td>  0.00</td> \n",
       "</tr>\n",
       "<tr>\n",
       "  <th>Time:</th>                 <td>16:28:51</td>     <th>  Log-Likelihood:    </th> <td>  264.88</td>\n",
       "</tr>\n",
       "<tr>\n",
       "  <th>No. Observations:</th>      <td>   636</td>      <th>  AIC:               </th> <td>  -523.8</td>\n",
       "</tr>\n",
       "<tr>\n",
       "  <th>Df Residuals:</th>          <td>   633</td>      <th>  BIC:               </th> <td>  -510.4</td>\n",
       "</tr>\n",
       "<tr>\n",
       "  <th>Df Model:</th>              <td>     2</td>      <th>                     </th>     <td> </td>   \n",
       "</tr>\n",
       "<tr>\n",
       "  <th>Covariance Type:</th>      <td>nonrobust</td>    <th>                     </th>     <td> </td>   \n",
       "</tr>\n",
       "</table>\n",
       "<table class=\"simpletable\">\n",
       "<tr>\n",
       "      <td></td>         <th>coef</th>     <th>std err</th>      <th>t</th>      <th>P>|t|</th> <th>[95.0% Conf. Int.]</th> \n",
       "</tr>\n",
       "<tr>\n",
       "  <th>constant</th>  <td>   -0.9515</td> <td>    0.032</td> <td>  -29.402</td> <td> 0.000</td> <td>   -1.015    -0.888</td>\n",
       "</tr>\n",
       "<tr>\n",
       "  <th>logMass</th>   <td>    0.5400</td> <td>    0.026</td> <td>   20.736</td> <td> 0.000</td> <td>    0.489     0.591</td>\n",
       "</tr>\n",
       "<tr>\n",
       "  <th>logMasssq</th> <td>    0.0322</td> <td>    0.005</td> <td>    7.013</td> <td> 0.000</td> <td>    0.023     0.041</td>\n",
       "</tr>\n",
       "</table>\n",
       "<table class=\"simpletable\">\n",
       "<tr>\n",
       "  <th>Omnibus:</th>       <td> 5.878</td> <th>  Durbin-Watson:     </th> <td>   0.915</td>\n",
       "</tr>\n",
       "<tr>\n",
       "  <th>Prob(Omnibus):</th> <td> 0.053</td> <th>  Jarque-Bera (JB):  </th> <td>   7.917</td>\n",
       "</tr>\n",
       "<tr>\n",
       "  <th>Skew:</th>          <td>-0.018</td> <th>  Prob(JB):          </th> <td>  0.0191</td>\n",
       "</tr>\n",
       "<tr>\n",
       "  <th>Kurtosis:</th>      <td> 3.545</td> <th>  Cond. No.          </th> <td>    61.5</td>\n",
       "</tr>\n",
       "</table>"
      ],
      "text/plain": [
       "<class 'statsmodels.iolib.summary.Summary'>\n",
       "\"\"\"\n",
       "                            GLS Regression Results                            \n",
       "==============================================================================\n",
       "Dep. Variable:              logBMRkjh   R-squared:                       0.961\n",
       "Model:                            GLS   Adj. R-squared:                  0.960\n",
       "Method:                 Least Squares   F-statistic:                     7706.\n",
       "Date:                Thu, 17 Dec 2015   Prob (F-statistic):               0.00\n",
       "Time:                        16:28:51   Log-Likelihood:                 264.88\n",
       "No. Observations:                 636   AIC:                            -523.8\n",
       "Df Residuals:                     633   BIC:                            -510.4\n",
       "Df Model:                           2                                         \n",
       "Covariance Type:            nonrobust                                         \n",
       "==============================================================================\n",
       "                 coef    std err          t      P>|t|      [95.0% Conf. Int.]\n",
       "------------------------------------------------------------------------------\n",
       "constant      -0.9515      0.032    -29.402      0.000        -1.015    -0.888\n",
       "logMass        0.5400      0.026     20.736      0.000         0.489     0.591\n",
       "logMasssq      0.0322      0.005      7.013      0.000         0.023     0.041\n",
       "==============================================================================\n",
       "Omnibus:                        5.878   Durbin-Watson:                   0.915\n",
       "Prob(Omnibus):                  0.053   Jarque-Bera (JB):                7.917\n",
       "Skew:                          -0.018   Prob(JB):                       0.0191\n",
       "Kurtosis:                       3.545   Cond. No.                         61.5\n",
       "==============================================================================\n",
       "\n",
       "Warnings:\n",
       "[1] Standard Errors assume that the covariance matrix of the errors is correctly specified.\n",
       "\"\"\""
      ]
     },
     "execution_count": 711,
     "metadata": {},
     "output_type": "execute_result"
    }
   ],
   "source": [
    "quad_model.summary()"
   ]
  },
  {
   "cell_type": "code",
   "execution_count": 703,
   "metadata": {
    "collapsed": false
   },
   "outputs": [
    {
     "data": {
      "text/plain": [
       "constant    -0.951500\n",
       "logMass      0.540014\n",
       "logMasssq    0.032211\n",
       "dtype: float64"
      ]
     },
     "execution_count": 703,
     "metadata": {},
     "output_type": "execute_result"
    }
   ],
   "source": [
    "quad_model.params"
   ]
  },
  {
   "cell_type": "code",
   "execution_count": 712,
   "metadata": {
    "collapsed": true
   },
   "outputs": [],
   "source": [
    "def Quad(c,M=data_noTnoO.Mass):\n",
    "    return 10**(c[0] + c[1]*np.log10(M) + c[2]*np.log10(M)**2)"
   ]
  },
  {
   "cell_type": "code",
   "execution_count": 20,
   "metadata": {
    "collapsed": true
   },
   "outputs": [],
   "source": [
    "def WBE(c,M):\n",
    "    return c[0]*M**(3./4.)"
   ]
  },
  {
   "cell_type": "code",
   "execution_count": 727,
   "metadata": {
    "collapsed": true
   },
   "outputs": [],
   "source": [
    "def WBE2(c,M):\n",
    "    return c[0]*M**(c[1])"
   ]
  },
  {
   "cell_type": "code",
   "execution_count": 585,
   "metadata": {
    "collapsed": false
   },
   "outputs": [],
   "source": [
    "def WBEEx(c,M=data_noTnoO.Mass):\n",
    "    if c[0] < 0 or c[1] < 0:\n",
    "        return np.inf*np.ones(len(M))\n",
    "    def f(B):\n",
    "        return c[0]*B + c[1]*B**(4./3.)\n",
    "    B = []\n",
    "    for m in M:\n",
    "        try:\n",
    "            b = opt.brenth(lambda b: f(b) - m,0.0001*data.BMRkjh.min(),1000*data.BMRkjh.max())\n",
    "        except ValueError:\n",
    "            B.append(np.inf)\n",
    "        else:\n",
    "            B.append(b)\n",
    "    return np.array(B)\n",
    "    "
   ]
  },
  {
   "cell_type": "code",
   "execution_count": 23,
   "metadata": {
    "collapsed": true
   },
   "outputs": [],
   "source": [
    "def FH(c,M=data_noTnoO.Mass):\n",
    "    res = M/(c[1]*sp.lambertw((np.exp(c[0]/c[1])*M)/c[1]))\n",
    "    return np.real(res)"
   ]
  },
  {
   "cell_type": "code",
   "execution_count": 24,
   "metadata": {
    "collapsed": true
   },
   "outputs": [],
   "source": [
    "def PT(c,M=data_noTnoO.Mass):\n",
    "    if c[1] < 0 or c[2] < 0 or c[0] < 0:\n",
    "        return np.inf*np.ones(len(M))\n",
    "    p = c[3]\n",
    "    def f(B):\n",
    "        return c[0]*B + c[1]*B*np.log10(B) + c[2]*(B**p)\n",
    "    B = []\n",
    "    for m in M:\n",
    "        try:\n",
    "            b = opt.brenth(lambda b: f(b) - m,0.001*data.BMRkjh.min(),1000*data.BMRkjh.max())\n",
    "        except ValueError:\n",
    "            B.append(np.inf)\n",
    "        else:\n",
    "            B.append(b)\n",
    "    return np.array(B)"
   ]
  },
  {
   "cell_type": "code",
   "execution_count": 25,
   "metadata": {
    "collapsed": true
   },
   "outputs": [],
   "source": [
    "def MFBEv2(c,M=data_noTnoO.Mass):\n",
    "    c0 = c[0]\n",
    "    c1 = c[1]\n",
    "    dr = c[2]\n",
    "    if dr < 0 or dr > 12:\n",
    "        return np.inf*np.ones(len(M))\n",
    "    a0 = (3.0/dr) - (4.0/3.0)\n",
    "    a1 = (3.0/(2.0*dr))\n",
    "    return c0*(M**a0) + c1*(M**a1)"
   ]
  },
  {
   "cell_type": "code",
   "execution_count": 26,
   "metadata": {
    "collapsed": true
   },
   "outputs": [],
   "source": [
    "def MFBE(c,M=data_noTnoO.Mass):\n",
    "    c0 = c[0]\n",
    "    c1 = c[1]\n",
    "    dr = c[2]\n",
    "    if dr < 0 or dr > 12:\n",
    "        return np.inf*np.ones(len(M))\n",
    "    a0 = (3.0/dr) - (5.0/4.0)\n",
    "    a1 = (3.0/(2*dr)) + (1.0/12.0)\n",
    "    return c0*(M**a0) + c1*(M**a1)"
   ]
  },
  {
   "cell_type": "code",
   "execution_count": 146,
   "metadata": {
    "collapsed": true
   },
   "outputs": [],
   "source": [
    "def MFBEv3(c,M=data_noTnoO.Mass):\n",
    "    c0 = c[0]\n",
    "    c1 = c[1]\n",
    "    dr = c[2]\n",
    "    if dr < 0 or dr > 12:\n",
    "        return np.inf*np.ones(len(M))\n",
    "    a0 = (1.0/6.0)\n",
    "    a1 = (3.0/4.0)\n",
    "    return c0*(M**a0) + c1*(M**a1)"
   ]
  },
  {
   "cell_type": "code",
   "execution_count": 29,
   "metadata": {
    "collapsed": true
   },
   "outputs": [],
   "source": [
    "def MFBEv4(c,M=data_noTnoO.Mass):\n",
    "    return c[0]*(M**(0.25)) + c[1]*(M**(0.75))"
   ]
  },
  {
   "cell_type": "code",
   "execution_count": 474,
   "metadata": {
    "collapsed": false
   },
   "outputs": [],
   "source": [
    "def sq_dist(c,f,X,Y,*args):\n",
    "    fX = f(c,X,*args)\n",
    "    if np.any(np.isinf(fX)) or np.any(np.isnan(fX)) or np.any(fX<=0):\n",
    "        return np.inf\n",
    "    return np.abs((np.log10(fX) - np.log10(Y))**2).sum()"
   ]
  },
  {
   "cell_type": "code",
   "execution_count": 475,
   "metadata": {
    "collapsed": true
   },
   "outputs": [],
   "source": [
    "def abs_dist(c,f,X,Y,*args):\n",
    "    fX = f(c,X,*args)\n",
    "    if np.any(np.isinf(fX)) or np.any(np.isnan(fX)) or np.any(fX<=0):\n",
    "        return np.inf\n",
    "    return np.abs((np.log10(fX) - np.log10(Y))).sum()"
   ]
  },
  {
   "cell_type": "code",
   "execution_count": 476,
   "metadata": {
    "collapsed": true
   },
   "outputs": [],
   "source": [
    "def min_dist_sq(c,f,X,Y,*args):\n",
    "    fX = f(c,X,*args)\n",
    "    if np.any(np.isinf(fX)) or np.any(np.isnan(fX)) or np.any(fX<=0):\n",
    "        return np.inf\n",
    "    def dist(x,x0,y0):\n",
    "        return (np.log10(x)-np.log10(x0))**2 + (np.log10(f(c,x))-np.log10(y0))**2\n",
    "    tot = 0.0\n",
    "    for x0,y0 in zip(X,Y):\n",
    "        x = opt.fmin(dist,x0=x0,args=(x0,y0),disp=False)\n",
    "        tot += dist(x,x0,y0)\n",
    "    return tot"
   ]
  },
  {
   "cell_type": "code",
   "execution_count": 477,
   "metadata": {
    "collapsed": true
   },
   "outputs": [],
   "source": [
    "def min_dist(c,f,X,Y,*args):\n",
    "    fX = f(c,X,*args)\n",
    "    if np.any(np.isinf(fX)) or np.any(np.isnan(fX)) or np.any(fX<=0):\n",
    "        return np.inf\n",
    "    def dist(x,x0,y0):\n",
    "        return (np.log10(x)-np.log10(x0))**2 + (np.log10(f(c,x))-np.log10(y0))**2\n",
    "    tot = 0.0\n",
    "    for x0,y0 in zip(X,Y):\n",
    "        x = opt.fmin(dist,x0=x0,args=(x0,y0),disp=False)\n",
    "        tot += np.sqrt(dist(x,x0,y0))\n",
    "    return tot"
   ]
  },
  {
   "cell_type": "code",
   "execution_count": 713,
   "metadata": {
    "collapsed": true
   },
   "outputs": [],
   "source": [
    "M = data_noTnoO.Mass.values\n",
    "B = data_noTnoO.BMRkjh.values"
   ]
  },
  {
   "cell_type": "code",
   "execution_count": 716,
   "metadata": {
    "collapsed": false
   },
   "outputs": [
    {
     "name": "stdout",
     "output_type": "stream",
     "text": [
      "Optimization terminated successfully.\n",
      "         Current function value: 16.189606\n",
      "         Iterations: 115\n",
      "         Function evaluations: 202\n"
     ]
    }
   ],
   "source": [
    "cQuad = opt.fmin(sq_dist,x0=quad_model.params.values,args=(Quad,M,B),xtol=10**-4,ftol=10**-4)"
   ]
  },
  {
   "cell_type": "code",
   "execution_count": 717,
   "metadata": {
    "collapsed": false
   },
   "outputs": [
    {
     "name": "stdout",
     "output_type": "stream",
     "text": [
      "Optimization terminated successfully.\n",
      "         Current function value: 77.406169\n",
      "         Iterations: 189\n",
      "         Function evaluations: 345\n"
     ]
    }
   ],
   "source": [
    "cQuad_abs = opt.fmin(abs_dist,x0=quad_model.params.values,args=(Quad,M,B),xtol=10**-4,ftol=10**-4)"
   ]
  },
  {
   "cell_type": "code",
   "execution_count": 718,
   "metadata": {
    "collapsed": false
   },
   "outputs": [
    {
     "name": "stdout",
     "output_type": "stream",
     "text": [
      "Optimization terminated successfully.\n",
      "         Current function value: 63.311617\n",
      "         Iterations: 156\n",
      "         Function evaluations: 278\n"
     ]
    }
   ],
   "source": [
    "cQuad_min = opt.fmin(min_dist,x0=quad_model.params.values,args=(Quad,M,B),xtol=10**-4,ftol=10**-4)"
   ]
  },
  {
   "cell_type": "code",
   "execution_count": 719,
   "metadata": {
    "collapsed": false
   },
   "outputs": [
    {
     "name": "stdout",
     "output_type": "stream",
     "text": [
      "Optimization terminated successfully.\n",
      "         Current function value: 10.835823\n",
      "         Iterations: 116\n",
      "         Function evaluations: 222\n"
     ]
    }
   ],
   "source": [
    "cQuad_min_sq = opt.fmin(min_dist_sq,x0=quad_model.params.values,args=(Quad,M,B),xtol=10**-4,ftol=10**-4)"
   ]
  },
  {
   "cell_type": "code",
   "execution_count": 720,
   "metadata": {
    "collapsed": false
   },
   "outputs": [
    {
     "data": {
      "text/plain": [
       "(array([-0.95150021,  0.54001411,  0.03221148]),\n",
       " array([-0.91975461,  0.50878382,  0.0390821 ]),\n",
       " array([-1.00416917,  0.56830103,  0.03078086]),\n",
       " array([-1.00520003,  0.57704546,  0.02731871]))"
      ]
     },
     "execution_count": 720,
     "metadata": {},
     "output_type": "execute_result"
    }
   ],
   "source": [
    "cQuad,cQuad_abs,cQuad_min,cQuad_min_sq"
   ]
  },
  {
   "cell_type": "code",
   "execution_count": 721,
   "metadata": {
    "collapsed": false
   },
   "outputs": [
    {
     "name": "stdout",
     "output_type": "stream",
     "text": [
      "Optimization terminated successfully.\n",
      "         Current function value: 18.223708\n",
      "         Iterations: 19\n",
      "         Function evaluations: 38\n"
     ]
    }
   ],
   "source": [
    "cWBE = opt.fmin(sq_dist,x0=[1.0],args=(WBE,M,B),xtol=10**-4,ftol=10**-4)"
   ]
  },
  {
   "cell_type": "code",
   "execution_count": 723,
   "metadata": {
    "collapsed": false
   },
   "outputs": [
    {
     "name": "stdout",
     "output_type": "stream",
     "text": [
      "Optimization terminated successfully.\n",
      "         Current function value: 82.439773\n",
      "         Iterations: 20\n",
      "         Function evaluations: 40\n"
     ]
    }
   ],
   "source": [
    "cWBE_abs = opt.fmin(abs_dist,x0=[1.0],args=(WBE,M,B),xtol=10**-4,ftol=10**-4)"
   ]
  },
  {
   "cell_type": "code",
   "execution_count": 725,
   "metadata": {
    "collapsed": false
   },
   "outputs": [
    {
     "name": "stdout",
     "output_type": "stream",
     "text": [
      "Optimization terminated successfully.\n",
      "         Current function value: 65.951819\n",
      "         Iterations: 8\n",
      "         Function evaluations: 16\n"
     ]
    }
   ],
   "source": [
    "cWBE_min = opt.fmin(min_dist,x0=cWBE_abs,args=(WBE,M,B),xtol=10**-4,ftol=10**-4)"
   ]
  },
  {
   "cell_type": "code",
   "execution_count": 726,
   "metadata": {
    "collapsed": false
   },
   "outputs": [
    {
     "name": "stdout",
     "output_type": "stream",
     "text": [
      "Optimization terminated successfully.\n",
      "         Current function value: 11.663173\n",
      "         Iterations: 6\n",
      "         Function evaluations: 12\n"
     ]
    }
   ],
   "source": [
    "cWBE_min_sq = opt.fmin(min_dist_sq,x0=cWBE,args=(WBE,M,B),xtol=10**-4,ftol=10**-4)"
   ]
  },
  {
   "cell_type": "code",
   "execution_count": 729,
   "metadata": {
    "collapsed": false
   },
   "outputs": [
    {
     "data": {
      "text/plain": [
       "(array([ 0.05927734]),\n",
       " array([ 0.05839844]),\n",
       " array([ 0.05837563]),\n",
       " array([ 0.05927734]))"
      ]
     },
     "execution_count": 729,
     "metadata": {},
     "output_type": "execute_result"
    }
   ],
   "source": [
    "cWBE,cWBE_abs,cWBE_min,cWBE_min_sq"
   ]
  },
  {
   "cell_type": "code",
   "execution_count": 731,
   "metadata": {
    "collapsed": false
   },
   "outputs": [
    {
     "name": "stdout",
     "output_type": "stream",
     "text": [
      "Optimization terminated successfully.\n",
      "         Current function value: 17.447646\n",
      "         Iterations: 29\n",
      "         Function evaluations: 57\n"
     ]
    }
   ],
   "source": [
    "cWBE2 = opt.fmin(sq_dist,x0=[0.05,.75],args=(WBE2,M,B),xtol=10**-4,ftol=10**-4)"
   ]
  },
  {
   "cell_type": "code",
   "execution_count": 732,
   "metadata": {
    "collapsed": false
   },
   "outputs": [
    {
     "name": "stdout",
     "output_type": "stream",
     "text": [
      "Optimization terminated successfully.\n",
      "         Current function value: 80.838960\n",
      "         Iterations: 30\n",
      "         Function evaluations: 58\n"
     ]
    }
   ],
   "source": [
    "cWBE2_abs = opt.fmin(abs_dist,x0=[0.05,.75],args=(WBE2,M,B),xtol=10**-4,ftol=10**-4)"
   ]
  },
  {
   "cell_type": "code",
   "execution_count": 734,
   "metadata": {
    "collapsed": false
   },
   "outputs": [
    {
     "name": "stdout",
     "output_type": "stream",
     "text": [
      "Optimization terminated successfully.\n",
      "         Current function value: 65.485625\n",
      "         Iterations: 27\n",
      "         Function evaluations: 50\n"
     ]
    }
   ],
   "source": [
    "cWBE2_min = opt.fmin(min_dist,x0=cWBE2_abs,args=(WBE2,M,B),xtol=10**-4,ftol=10**-4)"
   ]
  },
  {
   "cell_type": "code",
   "execution_count": 735,
   "metadata": {
    "collapsed": false
   },
   "outputs": [
    {
     "name": "stdout",
     "output_type": "stream",
     "text": [
      "Optimization terminated successfully.\n",
      "         Current function value: 11.452219\n",
      "         Iterations: 20\n",
      "         Function evaluations: 40\n"
     ]
    }
   ],
   "source": [
    "cWBE2_min_sq = opt.fmin(min_dist_sq,x0=cWBE2,args=(WBE2,M,B),xtol=10**-4,ftol=10**-4)"
   ]
  },
  {
   "cell_type": "code",
   "execution_count": 736,
   "metadata": {
    "collapsed": false
   },
   "outputs": [
    {
     "data": {
      "text/plain": [
       "(array([ 0.07030516,  0.71811842]),\n",
       " array([ 0.06811608,  0.71970014]),\n",
       " array([ 0.06449284,  0.73056227]),\n",
       " array([ 0.06630393,  0.72902161]))"
      ]
     },
     "execution_count": 736,
     "metadata": {},
     "output_type": "execute_result"
    }
   ],
   "source": [
    "cWBE2,cWBE2_abs,cWBE2_min,cWBE2_min_sq"
   ]
  },
  {
   "cell_type": "code",
   "execution_count": 737,
   "metadata": {
    "collapsed": false
   },
   "outputs": [
    {
     "name": "stdout",
     "output_type": "stream",
     "text": [
      "Optimization terminated successfully.\n",
      "         Current function value: 18.223689\n",
      "         Iterations: 100\n",
      "         Function evaluations: 189\n"
     ]
    }
   ],
   "source": [
    "cWBEEx = opt.fmin(sq_dist,x0=[100,100],args=(WBEEx,M,B),xtol=10**-4,ftol=10**-4)"
   ]
  },
  {
   "cell_type": "code",
   "execution_count": 738,
   "metadata": {
    "collapsed": false
   },
   "outputs": [
    {
     "name": "stdout",
     "output_type": "stream",
     "text": [
      "Optimization terminated successfully.\n",
      "         Current function value: 82.439773\n",
      "         Iterations: 73\n",
      "         Function evaluations: 151\n"
     ]
    }
   ],
   "source": [
    "cWBEEx_abs = opt.fmin(abs_dist,x0=cWBEEx,args=(WBEEx,M,B),xtol=10**-4,ftol=10**-4)"
   ]
  },
  {
   "cell_type": "code",
   "execution_count": 739,
   "metadata": {
    "collapsed": false
   },
   "outputs": [
    {
     "name": "stdout",
     "output_type": "stream",
     "text": [
      "Optimization terminated successfully.\n",
      "         Current function value: 11.663161\n",
      "         Iterations: 16\n",
      "         Function evaluations: 33\n"
     ]
    }
   ],
   "source": [
    "cWBEEx_min_sq = opt.fmin(min_dist_sq,x0=cWBEEx,args=(WBEEx,M,B),xtol=10**-4,ftol=10**-4)"
   ]
  },
  {
   "cell_type": "code",
   "execution_count": 740,
   "metadata": {
    "collapsed": false
   },
   "outputs": [
    {
     "name": "stdout",
     "output_type": "stream",
     "text": [
      "Optimization terminated successfully.\n",
      "         Current function value: 65.951819\n",
      "         Iterations: 21\n",
      "         Function evaluations: 52\n"
     ]
    }
   ],
   "source": [
    "cWBEEx_min = opt.fmin(min_dist,x0=cWBEEx_abs,args=(WBEEx,M,B),xtol=10**-4,ftol=10**-4)"
   ]
  },
  {
   "cell_type": "code",
   "execution_count": 742,
   "metadata": {
    "collapsed": false
   },
   "outputs": [
    {
     "data": {
      "text/plain": [
       "(array([  6.81709378e-10,   4.32892011e+01]),\n",
       " array([  2.05355200e-14,   4.41550143e+01]),\n",
       " array([  2.05551042e-14,   4.41397875e+01]),\n",
       " array([  6.81709378e-10,   4.32892011e+01]),\n",
       " array([  6.81709378e-10,   4.32892011e+01]))"
      ]
     },
     "execution_count": 742,
     "metadata": {},
     "output_type": "execute_result"
    }
   ],
   "source": [
    "cWBEEx,cWBEEx_abs,cWBEEx_min,cWBEEx_min_sq,cWBEEx"
   ]
  },
  {
   "cell_type": "code",
   "execution_count": 743,
   "metadata": {
    "collapsed": false
   },
   "outputs": [
    {
     "name": "stdout",
     "output_type": "stream",
     "text": [
      "Optimization terminated successfully.\n",
      "         Current function value: 17.636520\n",
      "         Iterations: 69\n",
      "         Function evaluations: 135\n"
     ]
    }
   ],
   "source": [
    "cFH = opt.fmin(sq_dist,x0=[1.0,1.0],args=(FH,M,B),xtol=10**-4,ftol=10**-4)"
   ]
  },
  {
   "cell_type": "code",
   "execution_count": 744,
   "metadata": {
    "collapsed": false
   },
   "outputs": [
    {
     "name": "stdout",
     "output_type": "stream",
     "text": [
      "Optimization terminated successfully.\n",
      "         Current function value: 80.173887\n",
      "         Iterations: 44\n",
      "         Function evaluations: 82\n"
     ]
    }
   ],
   "source": [
    "cFH_abs = opt.fmin(abs_dist,x0=cFH,args=(FH,M,B),xtol=10**-4,ftol=10**-4)"
   ]
  },
  {
   "cell_type": "code",
   "execution_count": 745,
   "metadata": {
    "collapsed": false
   },
   "outputs": [
    {
     "name": "stdout",
     "output_type": "stream",
     "text": [
      "Optimization terminated successfully.\n",
      "         Current function value: 66.692083\n",
      "         Iterations: 46\n",
      "         Function evaluations: 85\n"
     ]
    }
   ],
   "source": [
    "cFH_min = opt.fmin(min_dist,x0=cFH_abs,args=(FH,M,B),xtol=10**-4,ftol=10**-4)"
   ]
  },
  {
   "cell_type": "code",
   "execution_count": 746,
   "metadata": {
    "collapsed": false
   },
   "outputs": [
    {
     "name": "stdout",
     "output_type": "stream",
     "text": [
      "Optimization terminated successfully.\n",
      "         Current function value: 12.170457\n",
      "         Iterations: 36\n",
      "         Function evaluations: 71\n"
     ]
    }
   ],
   "source": [
    "cFH_min_sq = opt.fmin(min_dist_sq,x0=cFH,args=(FH,M,B),xtol=10**-4,ftol=10**-4)"
   ]
  },
  {
   "cell_type": "code",
   "execution_count": 747,
   "metadata": {
    "collapsed": false
   },
   "outputs": [
    {
     "data": {
      "text/plain": [
       "(array([ 45.4163532 ,  30.06460515]),\n",
       " array([ 44.40156848,  29.81634838]),\n",
       " array([ 45.27599382,  27.19337276]),\n",
       " array([ 46.79208493,  26.67444916]))"
      ]
     },
     "execution_count": 747,
     "metadata": {},
     "output_type": "execute_result"
    }
   ],
   "source": [
    "cFH,cFH_abs,cFH_min,cFH_min_sq"
   ]
  },
  {
   "cell_type": "code",
   "execution_count": 748,
   "metadata": {
    "collapsed": false
   },
   "outputs": [
    {
     "name": "stdout",
     "output_type": "stream",
     "text": [
      "Optimization terminated successfully.\n",
      "         Current function value: 17.450197\n",
      "         Iterations: 320\n",
      "         Function evaluations: 558\n"
     ]
    }
   ],
   "source": [
    "cPT = opt.fmin(sq_dist,x0=[1.0,0.0,1.0,4./3.],args=(PT,M,B),xtol=10**-4,ftol=10**-4)"
   ]
  },
  {
   "cell_type": "code",
   "execution_count": 749,
   "metadata": {
    "collapsed": false
   },
   "outputs": [
    {
     "name": "stdout",
     "output_type": "stream",
     "text": [
      "Optimization terminated successfully.\n",
      "         Current function value: 80.844911\n",
      "         Iterations: 148\n",
      "         Function evaluations: 254\n"
     ]
    }
   ],
   "source": [
    "cPT_abs = opt.fmin(abs_dist,x0=cPT,args=(PT,M,B),xtol=10**-4,ftol=10**-4)"
   ]
  },
  {
   "cell_type": "code",
   "execution_count": 750,
   "metadata": {
    "collapsed": false
   },
   "outputs": [
    {
     "name": "stdout",
     "output_type": "stream",
     "text": [
      "Optimization terminated successfully.\n",
      "         Current function value: 65.488709\n",
      "         Iterations: 79\n",
      "         Function evaluations: 142\n"
     ]
    }
   ],
   "source": [
    "cPT_min = opt.fmin(min_dist,x0=cPT_abs,args=(PT,M,B),xtol=10**-4,ftol=10**-4)"
   ]
  },
  {
   "cell_type": "code",
   "execution_count": 751,
   "metadata": {
    "collapsed": false
   },
   "outputs": [
    {
     "name": "stdout",
     "output_type": "stream",
     "text": [
      "Optimization terminated successfully.\n",
      "         Current function value: 11.452815\n",
      "         Iterations: 249\n",
      "         Function evaluations: 443\n"
     ]
    }
   ],
   "source": [
    "cPT_min_sq = opt.fmin(min_dist_sq,x0=cPT,args=(PT,M,B),xtol=10**-4,ftol=10**-4)"
   ]
  },
  {
   "cell_type": "code",
   "execution_count": 752,
   "metadata": {
    "collapsed": false
   },
   "outputs": [
    {
     "data": {
      "text/plain": [
       "(array([  4.34948278e-02,   3.33509723e-11,   4.02789034e+01,\n",
       "          1.39283759e+00]),\n",
       " array([  3.82966014e-02,   2.85425517e-11,   4.16903156e+01,\n",
       "          1.38988602e+00]),\n",
       " array([  3.91141665e-02,   2.98778499e-11,   4.25825808e+01,\n",
       "          1.36892039e+00]),\n",
       " array([  2.17105994e-02,   2.05058061e-17,   4.13095555e+01,\n",
       "          1.37203877e+00]))"
      ]
     },
     "execution_count": 752,
     "metadata": {},
     "output_type": "execute_result"
    }
   ],
   "source": [
    "cPT,cPT_abs,cPT_min,cPT_min_sq"
   ]
  },
  {
   "cell_type": "code",
   "execution_count": 753,
   "metadata": {
    "collapsed": false
   },
   "outputs": [
    {
     "name": "stdout",
     "output_type": "stream",
     "text": [
      "Optimization terminated successfully.\n",
      "         Current function value: 16.750858\n",
      "         Iterations: 121\n",
      "         Function evaluations: 222\n"
     ]
    }
   ],
   "source": [
    "cMFBE = opt.fmin(sq_dist,x0=[1.0,1.0,2.0],args=(MFBE,M,B),xtol=10**-4,ftol=10**-4)"
   ]
  },
  {
   "cell_type": "code",
   "execution_count": 754,
   "metadata": {
    "collapsed": false
   },
   "outputs": [
    {
     "name": "stdout",
     "output_type": "stream",
     "text": [
      "Optimization terminated successfully.\n",
      "         Current function value: 79.028794\n",
      "         Iterations: 74\n",
      "         Function evaluations: 132\n"
     ]
    }
   ],
   "source": [
    "cMFBE_abs = opt.fmin(abs_dist,x0=cMFBE,args=(MFBE,M,B),xtol=10**-4,ftol=10**-4)"
   ]
  },
  {
   "cell_type": "code",
   "execution_count": 755,
   "metadata": {
    "collapsed": false,
    "scrolled": true
   },
   "outputs": [
    {
     "name": "stdout",
     "output_type": "stream",
     "text": [
      "Optimization terminated successfully.\n",
      "         Current function value: 65.189255\n",
      "         Iterations: 89\n",
      "         Function evaluations: 161\n"
     ]
    }
   ],
   "source": [
    "cMFBE_min = opt.fmin(min_dist,x0=cMFBE_abs,args=(MFBE,M,B),xtol=10**-4,ftol=10**-4)"
   ]
  },
  {
   "cell_type": "code",
   "execution_count": 756,
   "metadata": {
    "collapsed": false
   },
   "outputs": [
    {
     "name": "stdout",
     "output_type": "stream",
     "text": [
      "Optimization terminated successfully.\n",
      "         Current function value: 11.336367\n",
      "         Iterations: 64\n",
      "         Function evaluations: 119\n"
     ]
    }
   ],
   "source": [
    "cMFBE_min_sq = opt.fmin(min_dist_sq,x0=cMFBE,args=(MFBE,M,B),xtol=10**-4,ftol=10**-4)"
   ]
  },
  {
   "cell_type": "code",
   "execution_count": 757,
   "metadata": {
    "collapsed": false
   },
   "outputs": [
    {
     "data": {
      "text/plain": [
       "(array([ 0.11408031,  0.04548792,  2.18448717]),\n",
       " array([ 0.14641619,  0.03036833,  2.03598797]),\n",
       " array([ 0.07772   ,  0.04780617,  2.18349368]),\n",
       " array([ 0.05849101,  0.054449  ,  2.2403316 ]))"
      ]
     },
     "execution_count": 757,
     "metadata": {},
     "output_type": "execute_result"
    }
   ],
   "source": [
    "cMFBE,cMFBE_abs,cMFBE_min,cMFBE_min_sq"
   ]
  },
  {
   "cell_type": "code",
   "execution_count": 758,
   "metadata": {
    "collapsed": false
   },
   "outputs": [
    {
     "name": "stdout",
     "output_type": "stream",
     "text": [
      "Optimization terminated successfully.\n",
      "         Current function value: 16.610423\n",
      "         Iterations: 118\n",
      "         Function evaluations: 211\n"
     ]
    }
   ],
   "source": [
    "cMFBEv2 = opt.fmin(sq_dist,x0=[1.0,1.0,2.0],args=(MFBEv2,M,B),xtol=10**-4,ftol=10**-4)"
   ]
  },
  {
   "cell_type": "code",
   "execution_count": 759,
   "metadata": {
    "collapsed": false
   },
   "outputs": [
    {
     "name": "stdout",
     "output_type": "stream",
     "text": [
      "Optimization terminated successfully.\n",
      "         Current function value: 77.177088\n",
      "         Iterations: 81\n",
      "         Function evaluations: 147\n"
     ]
    }
   ],
   "source": [
    "cMFBEv2_abs = opt.fmin(abs_dist,x0=cMFBEv2,args=(MFBEv2,M,B),xtol=10**-4,ftol=10**-4)"
   ]
  },
  {
   "cell_type": "code",
   "execution_count": 760,
   "metadata": {
    "collapsed": false
   },
   "outputs": [
    {
     "name": "stdout",
     "output_type": "stream",
     "text": [
      "Optimization terminated successfully.\n",
      "         Current function value: 62.926610\n",
      "         Iterations: 78\n",
      "         Function evaluations: 134\n"
     ]
    }
   ],
   "source": [
    "cMFBEv2_min = opt.fmin(min_dist,x0=cMFBEv2_abs,args=(MFBEv2,M,B),xtol=10**-4,ftol=10**-4)"
   ]
  },
  {
   "cell_type": "code",
   "execution_count": 761,
   "metadata": {
    "collapsed": false
   },
   "outputs": [
    {
     "name": "stdout",
     "output_type": "stream",
     "text": [
      "Optimization terminated successfully.\n",
      "         Current function value: 11.274379\n",
      "         Iterations: 67\n",
      "         Function evaluations: 122\n"
     ]
    }
   ],
   "source": [
    "cMFBEv2_min_sq = opt.fmin(min_dist_sq,x0=cMFBEv2,args=(MFBEv2,M,B),xtol=10**-4,ftol=10**-4)"
   ]
  },
  {
   "cell_type": "code",
   "execution_count": 762,
   "metadata": {
    "collapsed": false
   },
   "outputs": [
    {
     "data": {
      "text/plain": [
       "(array([ 0.11625917,  0.03391259,  1.8732232 ]),\n",
       " array([ 0.09704566,  0.0054881 ,  1.57314221]),\n",
       " array([ 0.08440747,  0.00395266,  1.53713788]),\n",
       " array([ 0.06853697,  0.04774662,  1.95447985]))"
      ]
     },
     "execution_count": 762,
     "metadata": {},
     "output_type": "execute_result"
    }
   ],
   "source": [
    "cMFBEv2, cMFBEv2_abs, cMFBEv2_min, cMFBEv2_min_sq"
   ]
  },
  {
   "cell_type": "code",
   "execution_count": 763,
   "metadata": {
    "collapsed": false
   },
   "outputs": [
    {
     "name": "stdout",
     "output_type": "stream",
     "text": [
      "Optimization terminated successfully.\n",
      "         Current function value: 16.766828\n",
      "         Iterations: 83\n",
      "         Function evaluations: 152\n"
     ]
    }
   ],
   "source": [
    "cMFBEv3 = opt.fmin(sq_dist,x0=[1.0,1.0,3.0],args=(MFBEv3,M,B),xtol=10**-4,ftol=10**-4)"
   ]
  },
  {
   "cell_type": "code",
   "execution_count": 764,
   "metadata": {
    "collapsed": false
   },
   "outputs": [
    {
     "name": "stdout",
     "output_type": "stream",
     "text": [
      "Optimization terminated successfully.\n",
      "         Current function value: 79.216367\n",
      "         Iterations: 64\n",
      "         Function evaluations: 118\n"
     ]
    }
   ],
   "source": [
    "cMFBEv3_abs = opt.fmin(abs_dist,x0=cMFBEv3,args=(MFBEv3,M,B),xtol=10**-4,ftol=10**-4)"
   ]
  },
  {
   "cell_type": "code",
   "execution_count": 765,
   "metadata": {
    "collapsed": false
   },
   "outputs": [
    {
     "name": "stdout",
     "output_type": "stream",
     "text": [
      "Optimization terminated successfully.\n",
      "         Current function value: 65.058064\n",
      "         Iterations: 71\n",
      "         Function evaluations: 129\n"
     ]
    }
   ],
   "source": [
    "cMFBEv3_min = opt.fmin(min_dist,x0=cMFBEv3_abs,args=(MFBEv3,M,B),xtol=10**-4,ftol=10**-4)"
   ]
  },
  {
   "cell_type": "code",
   "execution_count": 766,
   "metadata": {
    "collapsed": false
   },
   "outputs": [
    {
     "name": "stdout",
     "output_type": "stream",
     "text": [
      "Optimization terminated successfully.\n",
      "         Current function value: 65.058064\n",
      "         Iterations: 71\n",
      "         Function evaluations: 135\n"
     ]
    }
   ],
   "source": [
    "cMFBEv3_min_sq = opt.fmin(min_dist,x0=cMFBEv3,args=(MFBEv3,M,B),xtol=10**-4,ftol=10**-4)"
   ]
  },
  {
   "cell_type": "code",
   "execution_count": 767,
   "metadata": {
    "collapsed": false
   },
   "outputs": [
    {
     "data": {
      "text/plain": [
       "(array([ 0.0773451 ,  0.05261677,  4.28944084]),\n",
       " array([ 0.08273963,  0.05154788,  4.1710581 ]),\n",
       " array([ 0.04281694,  0.05502559,  4.14943809]),\n",
       " array([ 0.04281688,  0.05502563,  3.26361697]))"
      ]
     },
     "execution_count": 767,
     "metadata": {},
     "output_type": "execute_result"
    }
   ],
   "source": [
    "cMFBEv3,cMFBEv3_abs,cMFBEv3_min,cMFBEv3_min_sq"
   ]
  },
  {
   "cell_type": "code",
   "execution_count": 768,
   "metadata": {
    "collapsed": false
   },
   "outputs": [
    {
     "name": "stdout",
     "output_type": "stream",
     "text": [
      "Optimization terminated successfully.\n",
      "         Current function value: 16.752171\n",
      "         Iterations: 52\n",
      "         Function evaluations: 101\n"
     ]
    }
   ],
   "source": [
    "cMFBEv4 = opt.fmin(sq_dist,x0=[1.0,1.0],args=(MFBEv4,M,B),xtol=10**-4,ftol=10**-4)"
   ]
  },
  {
   "cell_type": "code",
   "execution_count": 769,
   "metadata": {
    "collapsed": false
   },
   "outputs": [
    {
     "name": "stdout",
     "output_type": "stream",
     "text": [
      "Optimization terminated successfully.\n",
      "         Current function value: 79.119868\n",
      "         Iterations: 53\n",
      "         Function evaluations: 101\n"
     ]
    }
   ],
   "source": [
    "cMFBEv4_abs = opt.fmin(abs_dist,x0=[1.0,1.0],args=(MFBEv4,M,B),xtol=10**-4,ftol=10**-4)"
   ]
  },
  {
   "cell_type": "code",
   "execution_count": 770,
   "metadata": {
    "collapsed": false
   },
   "outputs": [
    {
     "name": "stdout",
     "output_type": "stream",
     "text": [
      "Optimization terminated successfully.\n",
      "         Current function value: 64.937757\n",
      "         Iterations: 25\n",
      "         Function evaluations: 47\n"
     ]
    }
   ],
   "source": [
    "cMFBEv4_min = opt.fmin(min_dist,x0=cMFBEv4_abs,args=(MFBEv4,M,B),xtol=10**-4,ftol=10**-4)"
   ]
  },
  {
   "cell_type": "code",
   "execution_count": 771,
   "metadata": {
    "collapsed": false
   },
   "outputs": [
    {
     "name": "stdout",
     "output_type": "stream",
     "text": [
      "Optimization terminated successfully.\n",
      "         Current function value: 11.262224\n",
      "         Iterations: 23\n",
      "         Function evaluations: 45\n"
     ]
    }
   ],
   "source": [
    "cMFBEv4_min_sq = opt.fmin(min_dist_sq,x0=cMFBEv4,args=(MFBEv4,M,B),xtol=10**-4,ftol=10**-4)"
   ]
  },
  {
   "cell_type": "code",
   "execution_count": 772,
   "metadata": {
    "collapsed": false
   },
   "outputs": [
    {
     "data": {
      "text/plain": [
       "(array([ 0.06501198,  0.05180199]),\n",
       " array([ 0.06693844,  0.05079918]),\n",
       " array([ 0.04270806,  0.05363637]),\n",
       " array([ 0.04304239,  0.05426722]))"
      ]
     },
     "execution_count": 772,
     "metadata": {},
     "output_type": "execute_result"
    }
   ],
   "source": [
    "cMFBEv4,cMFBEv4_abs,cMFBEv4_min,cMFBEv4_min_sq"
   ]
  },
  {
   "cell_type": "code",
   "execution_count": 773,
   "metadata": {
    "collapsed": true
   },
   "outputs": [],
   "source": [
    "def MFBEv5(c,M=data_noTnoO.Mass):\n",
    "    c0 = c[0]\n",
    "    #a0 = c[1]\n",
    "    c1 = c[1]\n",
    "    a1 = c[2]\n",
    "    #if np.random.random() < 0.5:\n",
    "    return c0*M+c1*M**(a1)"
   ]
  },
  {
   "cell_type": "code",
   "execution_count": 774,
   "metadata": {
    "collapsed": false
   },
   "outputs": [
    {
     "name": "stdout",
     "output_type": "stream",
     "text": [
      "Optimization terminated successfully.\n",
      "         Current function value: 16.091072\n",
      "         Iterations: 106\n",
      "         Function evaluations: 187\n"
     ]
    }
   ],
   "source": [
    "cMFBEv5 = opt.fmin(sq_dist,x0=[0.01,0.01,0.6],args=(MFBEv5,M,B),xtol=10**-4,ftol=10**-4)"
   ]
  },
  {
   "cell_type": "code",
   "execution_count": 775,
   "metadata": {
    "collapsed": false
   },
   "outputs": [
    {
     "name": "stdout",
     "output_type": "stream",
     "text": [
      "Optimization terminated successfully.\n",
      "         Current function value: 77.033857\n",
      "         Iterations: 50\n",
      "         Function evaluations: 94\n"
     ]
    }
   ],
   "source": [
    "cMFBEv5_abs = opt.fmin(abs_dist,x0=cMFBEv5,args=(MFBEv5,M,B),xtol=10**-4,ftol=10**-4)"
   ]
  },
  {
   "cell_type": "code",
   "execution_count": 776,
   "metadata": {
    "collapsed": false
   },
   "outputs": [
    {
     "name": "stdout",
     "output_type": "stream",
     "text": [
      "Optimization terminated successfully.\n",
      "         Current function value: 62.814009\n",
      "         Iterations: 66\n",
      "         Function evaluations: 118\n"
     ]
    }
   ],
   "source": [
    "cMFBEv5_min = opt.fmin(min_dist,x0=cMFBEv5_abs,args=(MFBEv5,M,B),xtol=10**-4,ftol=10**-4)"
   ]
  },
  {
   "cell_type": "code",
   "execution_count": 777,
   "metadata": {
    "collapsed": false
   },
   "outputs": [
    {
     "name": "stdout",
     "output_type": "stream",
     "text": [
      "Optimization terminated successfully.\n",
      "         Current function value: 10.691945\n",
      "         Iterations: 40\n",
      "         Function evaluations: 73\n"
     ]
    }
   ],
   "source": [
    "cMFBEv5_min_sq = opt.fmin(min_dist_sq,x0=cMFBEv5,args=(MFBEv5,M,B),xtol=10**-4,ftol=10**-4)"
   ]
  },
  {
   "cell_type": "code",
   "execution_count": 778,
   "metadata": {
    "collapsed": false
   },
   "outputs": [
    {
     "data": {
      "text/plain": [
       "(array([ 0.0026493 ,  0.09571823,  0.60662923]),\n",
       " array([ 0.00326676,  0.09881824,  0.58796207]),\n",
       " array([ 0.00308685,  0.08815905,  0.61559155]),\n",
       " array([ 0.00256967,  0.08749987,  0.62706833]))"
      ]
     },
     "execution_count": 778,
     "metadata": {},
     "output_type": "execute_result"
    }
   ],
   "source": [
    "cMFBEv5,cMFBEv5_abs,cMFBEv5_min,cMFBEv5_min_sq"
   ]
  },
  {
   "cell_type": "code",
   "execution_count": 779,
   "metadata": {
    "collapsed": true
   },
   "outputs": [],
   "source": [
    "def MFBEv6(c,M=data_noTnoO.Mass):\n",
    "    c0 = c[0]\n",
    "    c1 = c[1]\n",
    "    c2 = c[2]\n",
    "    dr = c[3]\n",
    "    m = c[4]\n",
    "    if c0 <0 or c1<0 or c2<0 or dr>3:# or dr<2 or m>1:\n",
    "        return np.inf*np.ones(len(M))\n",
    "    #c2 = c[2]\n",
    "    #if np.random.random() < 0.5:\n",
    "    return c0*M**(m/3.0) + c1*M**(m*((4.0/dr) - (5.0/3.0))) + c2*M**(m*(2./dr))"
   ]
  },
  {
   "cell_type": "code",
   "execution_count": 780,
   "metadata": {
    "collapsed": false
   },
   "outputs": [
    {
     "name": "stdout",
     "output_type": "stream",
     "text": [
      "Optimization terminated successfully.\n",
      "         Current function value: 79.357170\n",
      "         Iterations: 149\n",
      "         Function evaluations: 258\n"
     ]
    }
   ],
   "source": [
    "cMFBEv6_abs = opt.fmin(abs_dist,x0=[0.1,0.1,0.1,2.0,0.75],args=(MFBEv6,M,B),xtol=10**-4,ftol=10**-4)"
   ]
  },
  {
   "cell_type": "code",
   "execution_count": 781,
   "metadata": {
    "collapsed": false
   },
   "outputs": [
    {
     "name": "stdout",
     "output_type": "stream",
     "text": [
      "Optimization terminated successfully.\n",
      "         Current function value: 16.389366\n",
      "         Iterations: 190\n",
      "         Function evaluations: 320\n"
     ]
    }
   ],
   "source": [
    "cMFBEv6 = opt.fmin(sq_dist,x0=cMFBEv6_abs,args=(MFBEv6,M,B),xtol=10**-4,ftol=10**-4)"
   ]
  },
  {
   "cell_type": "code",
   "execution_count": 782,
   "metadata": {
    "collapsed": false
   },
   "outputs": [
    {
     "name": "stdout",
     "output_type": "stream",
     "text": [
      "Optimization terminated successfully.\n",
      "         Current function value: 64.285615\n",
      "         Iterations: 251\n",
      "         Function evaluations: 420\n"
     ]
    }
   ],
   "source": [
    "cMFBEv6_min = opt.fmin(min_dist,x0=cMFBEv6_abs,args=(MFBEv6,M,B),xtol=10**-4,ftol=10**-4)"
   ]
  },
  {
   "cell_type": "code",
   "execution_count": 783,
   "metadata": {
    "collapsed": false
   },
   "outputs": [
    {
     "name": "stdout",
     "output_type": "stream",
     "text": [
      "Optimization terminated successfully.\n",
      "         Current function value: 11.075894\n",
      "         Iterations: 163\n",
      "         Function evaluations: 272\n"
     ]
    }
   ],
   "source": [
    "cMFBEv6_min_sq = opt.fmin(min_dist_sq,x0=cMFBEv6,args=(MFBEv6,M,B),xtol=10**-4,ftol=10**-4)"
   ]
  },
  {
   "cell_type": "code",
   "execution_count": 784,
   "metadata": {
    "collapsed": false
   },
   "outputs": [
    {
     "data": {
      "text/plain": [
       "(array([  1.03117471e-01,   1.68050010e-07,   2.50285153e-02,\n",
       "          2.91177025e+00,   1.20245563e+00]),\n",
       " array([ 0.04185366,  0.10939236,  0.04645843,  2.99988684,  1.14205586]),\n",
       " array([  8.49309250e-02,   2.15648504e-07,   3.04514095e-02,\n",
       "          2.76674358e+00,   1.12850143e+00]),\n",
       " array([  8.00397922e-02,   1.65118635e-07,   3.07848465e-02,\n",
       "          2.99999980e+00,   1.21325617e+00]))"
      ]
     },
     "execution_count": 784,
     "metadata": {},
     "output_type": "execute_result"
    }
   ],
   "source": [
    "cMFBEv6,cMFBEv6_abs,cMFBEv6_min,cMFBEv6_min_sq"
   ]
  },
  {
   "cell_type": "code",
   "execution_count": 785,
   "metadata": {
    "collapsed": true
   },
   "outputs": [],
   "source": [
    "def MFBEv8(c,M=data_noTnoO.Mass):\n",
    "    c0 = c[0]\n",
    "    c1 = c[1]\n",
    "    #a1 = c[2]\n",
    "    #if c0 < 0 or c1 < 0 or a1 < 0 or a1 > 2.0:\n",
    "    #    return np.inf*np.ones(len(M))\n",
    "    return c0*M + c1*M**(0.75)"
   ]
  },
  {
   "cell_type": "code",
   "execution_count": 787,
   "metadata": {
    "collapsed": false
   },
   "outputs": [
    {
     "name": "stdout",
     "output_type": "stream",
     "text": [
      "Optimization terminated successfully.\n",
      "         Current function value: 18.084772\n",
      "         Iterations: 49\n",
      "         Function evaluations: 94\n"
     ]
    }
   ],
   "source": [
    "cMFBEv8 = opt.fmin(sq_dist,x0=[0.05,0.05],args=(MFBEv8,M,B),xtol=10**-4,ftol=10**-4)"
   ]
  },
  {
   "cell_type": "code",
   "execution_count": 788,
   "metadata": {
    "collapsed": false
   },
   "outputs": [
    {
     "name": "stdout",
     "output_type": "stream",
     "text": [
      "Optimization terminated successfully.\n",
      "         Current function value: 82.261243\n",
      "         Iterations: 18\n",
      "         Function evaluations: 33\n"
     ]
    }
   ],
   "source": [
    "cMFBEv8_abs = opt.fmin(abs_dist,x0=cMFBEv8,args=(MFBEv8,M,B),xtol=10**-4,ftol=10**-4)"
   ]
  },
  {
   "cell_type": "code",
   "execution_count": 789,
   "metadata": {
    "collapsed": false
   },
   "outputs": [
    {
     "name": "stdout",
     "output_type": "stream",
     "text": [
      "Optimization terminated successfully.\n",
      "         Current function value: 65.945488\n",
      "         Iterations: 29\n",
      "         Function evaluations: 55\n"
     ]
    }
   ],
   "source": [
    "cMFBEv8_min = opt.fmin(min_dist,x0=cMFBEv8_abs,args=(MFBEv8,M,B),xtol=10**-4,ftol=10**-4)"
   ]
  },
  {
   "cell_type": "code",
   "execution_count": 790,
   "metadata": {
    "collapsed": false
   },
   "outputs": [
    {
     "name": "stdout",
     "output_type": "stream",
     "text": [
      "Optimization terminated successfully.\n",
      "         Current function value: 11.654618\n",
      "         Iterations: 20\n",
      "         Function evaluations: 38\n"
     ]
    }
   ],
   "source": [
    "cMFBEv8_min_sq = opt.fmin(min_dist_sq,x0=cMFBEv8,args=(MFBEv8,M,B),xtol=10**-4,ftol=10**-4)"
   ]
  },
  {
   "cell_type": "code",
   "execution_count": 791,
   "metadata": {
    "collapsed": true
   },
   "outputs": [],
   "source": [
    "def MFBEv9(c,M=data_noTnoO.Mass,disp=False):\n",
    "    c0 = c[0]\n",
    "    c1 = c[1]\n",
    "    dr = c[2]\n",
    "    \n",
    "    a0 = ((6.0/dr) - (8.0/3.0))/((2.0/dr) + (1./3.))\n",
    "    a1 = ((8.0/(3.0*dr)) - (2.0/9))/((2.0/dr) + (1./3.))\n",
    "    if c0 < 0 or c1 < 0:\n",
    "        return np.inf*np.ones(len(M))\n",
    "    if dr < 0 or dr > 12:\n",
    "        return np.inf*np.ones(len(M))\n",
    "    if disp:\n",
    "        print a0,a1\n",
    "    return c0*M**a0 + c1*M**a1"
   ]
  },
  {
   "cell_type": "code",
   "execution_count": 792,
   "metadata": {
    "collapsed": false
   },
   "outputs": [
    {
     "name": "stdout",
     "output_type": "stream",
     "text": [
      "Optimization terminated successfully.\n",
      "         Current function value: 17.025299\n",
      "         Iterations: 81\n",
      "         Function evaluations: 151\n"
     ]
    }
   ],
   "source": [
    "cMFBEv9 = opt.fmin(sq_dist,x0=[0.05,0.05,2.5],args=(MFBEv9,M,B),xtol=10**-4,ftol=10**-4)"
   ]
  },
  {
   "cell_type": "code",
   "execution_count": 793,
   "metadata": {
    "collapsed": false
   },
   "outputs": [
    {
     "name": "stdout",
     "output_type": "stream",
     "text": [
      "Optimization terminated successfully.\n",
      "         Current function value: 80.022724\n",
      "         Iterations: 60\n",
      "         Function evaluations: 104\n"
     ]
    }
   ],
   "source": [
    "cMFBEv9_abs = opt.fmin(abs_dist,x0=cMFBEv9,args=(MFBEv9,M,B),xtol=10**-4,ftol=10**-4)"
   ]
  },
  {
   "cell_type": "code",
   "execution_count": 794,
   "metadata": {
    "collapsed": false
   },
   "outputs": [
    {
     "name": "stdout",
     "output_type": "stream",
     "text": [
      "Optimization terminated successfully.\n",
      "         Current function value: 65.424952\n",
      "         Iterations: 74\n",
      "         Function evaluations: 138\n"
     ]
    }
   ],
   "source": [
    "cMFBEv9_min = opt.fmin(min_dist,x0=cMFBEv9,args=(MFBEv9,M,B),xtol=10**-4,ftol=10**-4)"
   ]
  },
  {
   "cell_type": "code",
   "execution_count": 795,
   "metadata": {
    "collapsed": false
   },
   "outputs": [
    {
     "name": "stdout",
     "output_type": "stream",
     "text": [
      "Optimization terminated successfully.\n",
      "         Current function value: 11.435440\n",
      "         Iterations: 50\n",
      "         Function evaluations: 96\n"
     ]
    }
   ],
   "source": [
    "cMFBEv9_min_sq = opt.fmin(min_dist_sq,x0=cMFBEv9,args=(MFBEv9,M,B),xtol=10**-4,ftol=10**-4)"
   ]
  },
  {
   "cell_type": "code",
   "execution_count": 796,
   "metadata": {
    "collapsed": false
   },
   "outputs": [
    {
     "data": {
      "text/plain": [
       "(array([ 0.14581453,  0.05694285,  2.4973434 ]),\n",
       " array([ 0.13900314,  0.05966589,  2.54914163]),\n",
       " array([ 0.03498068,  0.06309629,  2.5744289 ]),\n",
       " array([ 0.03590536,  0.06337076,  2.56109614]))"
      ]
     },
     "execution_count": 796,
     "metadata": {},
     "output_type": "execute_result"
    }
   ],
   "source": [
    "cMFBEv9,cMFBEv9_abs,cMFBEv9_min,cMFBEv9_min_sq"
   ]
  },
  {
   "cell_type": "code",
   "execution_count": 797,
   "metadata": {
    "collapsed": true
   },
   "outputs": [],
   "source": [
    "def MFBEv10(c,M=data_noTnoO.Mass):\n",
    "    c0 = c[0]\n",
    "    c1 = c[1]\n",
    "    dr = c[2]\n",
    "    \n",
    "    a0 = ((7.0/3.0) - dr)\n",
    "    a1 = (1.0 - (dr/9.0))\n",
    "    if c0 < 0 or c1 < 0:\n",
    "        return np.inf*np.ones(len(M))\n",
    "    if dr < 0 or dr > 12:\n",
    "        return np.inf*np.ones(len(M))\n",
    "    return c0*M**a0 + c1*M**a1"
   ]
  },
  {
   "cell_type": "code",
   "execution_count": 798,
   "metadata": {
    "collapsed": false
   },
   "outputs": [
    {
     "name": "stdout",
     "output_type": "stream",
     "text": [
      "Optimization terminated successfully.\n",
      "         Current function value: 16.479433\n",
      "         Iterations: 84\n",
      "         Function evaluations: 150\n"
     ]
    }
   ],
   "source": [
    "cMFBEv10 = opt.fmin(sq_dist,x0=[0.05,0.05,2.5],args=(MFBEv10,M,B),xtol=10**-4,ftol=10**-4)"
   ]
  },
  {
   "cell_type": "code",
   "execution_count": 799,
   "metadata": {
    "collapsed": false
   },
   "outputs": [
    {
     "name": "stdout",
     "output_type": "stream",
     "text": [
      "Optimization terminated successfully.\n",
      "         Current function value: 78.509079\n",
      "         Iterations: 61\n",
      "         Function evaluations: 111\n"
     ]
    }
   ],
   "source": [
    "cMFBEv10_abs = opt.fmin(abs_dist,x0=cMFBEv10,args=(MFBEv10,M,B),xtol=10**-4,ftol=10**-4)"
   ]
  },
  {
   "cell_type": "code",
   "execution_count": 800,
   "metadata": {
    "collapsed": false
   },
   "outputs": [
    {
     "name": "stdout",
     "output_type": "stream",
     "text": [
      "Optimization terminated successfully.\n",
      "         Current function value: 64.196624\n",
      "         Iterations: 72\n",
      "         Function evaluations: 129\n"
     ]
    }
   ],
   "source": [
    "cMFBEv10_min = opt.fmin(min_dist,x0=cMFBEv10_abs,args=(MFBEv10,M,B),xtol=10**-4,ftol=10**-4)"
   ]
  },
  {
   "cell_type": "code",
   "execution_count": 801,
   "metadata": {
    "collapsed": false
   },
   "outputs": [
    {
     "name": "stdout",
     "output_type": "stream",
     "text": [
      "Optimization terminated successfully.\n",
      "         Current function value: 11.024669\n",
      "         Iterations: 56\n",
      "         Function evaluations: 101\n"
     ]
    }
   ],
   "source": [
    "cMFBEv10_min_sq = opt.fmin(min_dist_sq,x0=cMFBEv10,args=(MFBEv10,M,B),xtol=10**-4,ftol=10**-4)"
   ]
  },
  {
   "cell_type": "code",
   "execution_count": 802,
   "metadata": {
    "collapsed": false
   },
   "outputs": [
    {
     "data": {
      "text/plain": [
       "(array([ 0.07223946,  0.03357416,  1.88937698]),\n",
       " array([ 0.06968625,  0.03145085,  1.86344434]),\n",
       " array([ 0.05657061,  0.03009046,  1.80909427]),\n",
       " array([ 0.05860025,  0.03005519,  1.80891591]))"
      ]
     },
     "execution_count": 802,
     "metadata": {},
     "output_type": "execute_result"
    }
   ],
   "source": [
    "cMFBEv10,cMFBEv10_abs,cMFBEv10_min,cMFBEv10_min_sq"
   ]
  },
  {
   "cell_type": "code",
   "execution_count": 557,
   "metadata": {
    "collapsed": false
   },
   "outputs": [
    {
     "name": "stdout",
     "output_type": "stream",
     "text": [
      "(16.857956885598011, 0.0, 0.75283688565029228, array([ 0.11202763,  0.05282081]))\n",
      "(16.766202498606113, 0.10000000000000001, 0.76133877949512485, array([ 0.10609003,  0.04882192]))\n",
      "(16.657355727902072, 0.20000000000000001, 0.77332267932485488, array([ 0.10187221,  0.04348154]))\n",
      "(16.530788522515653, 0.29999999999999999, 0.79111932776734117, array([ 0.09962833,  0.03624958]))\n",
      "(16.38773482116348, 0.40000000000000002, 0.81977539073608219, array([ 0.09960041,  0.02646473]))\n",
      "(16.232913912582138, 0.5, 0.87262364640253232, array([ 0.10098755,  0.01407542]))\n",
      "(16.094482305339554, 0.59999999999999998, 0.99671941265566888, array([ 0.09743656,  0.00284468]))\n",
      "(16.497448524036518, 0.70000000000000007, 1.3958752598651993, array([  7.45861620e-02,   1.24911644e-05]))\n",
      "(16.41616056362815, 0.80000000000000004, 0.4227742977781262, array([ 0.03113002,  0.08223672]))\n",
      "(16.167031252531437, 0.90000000000000002, 0.55313262850660561, array([ 0.0094017 ,  0.09560509]))\n",
      "(16.091072085467101, 1.0, 0.60664034049546622, array([ 0.00264973,  0.09571136]))\n",
      "(16.089063215017351, 1.1000000000000001, 0.63557889102227905, array([ 0.00074739,  0.09250014]))\n",
      "(16.132068273148299, 1.2, 0.65363089128352181, array([ 0.00021244,  0.08907232]))\n"
     ]
    }
   ],
   "source": [
    "a0s = np.arange(0.0,1.201,0.001)\n",
    "fopts = []\n",
    "rets = []\n",
    "i = 0\n",
    "for a0 in a0s:\n",
    "    if i==0:\n",
    "        x0=[.1,.1,.5]\n",
    "    else:\n",
    "        x0= ret[0]\n",
    "    ret = opt.fmin(sq_dist,x0=x0,args=(MFBEv7,data_noTnoO.Mass,data_noTnoO.BMRkjh,a0),maxiter=100000,xtol=10**-12,ftol=10**-12,disp=False,full_output=True)\n",
    "    rets.append(ret)\n",
    "    fopts.append(ret[1])\n",
    "    if i % 20 == 0:\n",
    "        print(fopts[-1],a0,ret[0][2],ret[0][:2])\n",
    "    i+=1"
   ]
  },
  {
   "cell_type": "code",
   "execution_count": 559,
   "metadata": {
    "collapsed": false
   },
   "outputs": [
    {
     "data": {
      "text/plain": [
       "<matplotlib.text.Text at 0x7fc56966e510>"
      ]
     },
     "execution_count": 559,
     "metadata": {},
     "output_type": "execute_result"
    },
    {
     "data": {
      "image/png": "[encoded data removed]",
      "text/plain": [
       "<matplotlib.figure.Figure at 0x7fc5695808d0>"
      ]
     },
     "metadata": {},
     "output_type": "display_data"
    }
   ],
   "source": [
    "fopts = np.array(fopts)\n",
    "fopts_norm = (fopts-fopts.min())/(fopts.max()-fopts.min()) + .1\n",
    "MSE = fopts/len(data_noTnoO.Mass)\n",
    "#plt.scatter(a0s,[ret[0][2] for ret in rets],s=(5*fopts_norm)**2,c='k')\n",
    "#plt.ylabel('a1')\n",
    "#plt.ylim(0,1)\n",
    "plt.plot(a0s,MSE,'k.')\n",
    "plt.hlines(0.025455355905786726,*plt.xlim())\n",
    "plt.ylabel('MSE')\n",
    "plt.xlabel('a0')\n"
   ]
  },
  {
   "cell_type": "code",
   "execution_count": 560,
   "metadata": {
    "collapsed": false
   },
   "outputs": [
    {
     "data": {
      "text/plain": [
       "[(1.05, 16.083143874319337),\n",
       " (1.0549999999999999, 16.083164496881743),\n",
       " (0.625, 16.083196524189919),\n",
       " (1.0449999999999999, 16.083260817998923),\n",
       " (1.0600000000000001, 16.083319610447528),\n",
       " (0.62, 16.083442115967134),\n",
       " (1.04, 16.083518511009615),\n",
       " (1.0649999999999999, 16.083606239914374),\n",
       " (1.0349999999999999, 16.083920252732348),\n",
       " (1.0700000000000001, 16.084021503264051)]"
      ]
     },
     "execution_count": 560,
     "metadata": {},
     "output_type": "execute_result"
    }
   ],
   "source": [
    "sorted(zip(a0s,fopts),key=lambda i:i[1])[:10]"
   ]
  },
  {
   "cell_type": "code",
   "execution_count": 394,
   "metadata": {
    "collapsed": true
   },
   "outputs": [],
   "source": [
    "sBMR = np.logspace(np.log10(0.07),np.log10(2000),1000,base=10)\n",
    "sMass = np.logspace(0,6,1000,base=10)"
   ]
  },
  {
   "cell_type": "code",
   "execution_count": 821,
   "metadata": {
    "collapsed": false
   },
   "outputs": [
    {
     "data": {
      "text/plain": [
       "array([ 0.03590536,  0.06337076,  2.56109614])"
      ]
     },
     "execution_count": 821,
     "metadata": {},
     "output_type": "execute_result"
    }
   ],
   "source": [
    "cMFBEv9_min_sq"
   ]
  },
  {
   "cell_type": "code",
   "execution_count": 834,
   "metadata": {
    "collapsed": false
   },
   "outputs": [
    {
     "data": {
      "image/png": "[encoded data removed]",
      "text/plain": [
       "<matplotlib.figure.Figure at 0x7fc5955d1650>"
      ]
     },
     "metadata": {},
     "output_type": "display_data"
    }
   ],
   "source": [
    "#plt.figure(figsize=(10,10))\n",
    "mod_label = 'Best Fit: $D_r=$%1.2f'%cMFBEv9_min_sq[2]\n",
    "plt.scatter(data_noTnoO.Mass,data_noTnoO.BMRkjh,c='k',marker='o',edgecolor='w',label='Data')\n",
    "plt.loglog(sMass,MFBEv9(cMFBEv9_min_sq,sMass),'r--',lw=3,label=mod_label)\n",
    "#plt.loglog(sMass,MFBEv10(cMFBEv10_min,sMass),'g-',lw=1,label='Best Fit: $D_r=2.24$')\n",
    "\n",
    "plt.loglog(sMass,WBE(cWBE_min,sMass),'b-',lw=1,label='$B \\propto M^{\\\\frac{3}{4}}$')\n",
    "#plt.loglog(sMass,MFBEv10(cMFBEv10_min_sq,sMass),'g--',lw=1,label='Best fit v9')\n",
    "plt.xlim(1,10**6)\n",
    "plt.ylim(0.07,2000)\n",
    "plt.xlabel('Mass ($g$)')\n",
    "plt.ylabel('BMR ($kJ/h$)')\n",
    "plt.legend(loc='upper left',frameon=False)\n",
    "#plt.yscale('symlog',linthreshy=.1)\n",
    "plt.savefig('../Figures/OrganismsPowerScaling.pdf',dpi=600)"
   ]
  },
  {
   "cell_type": "code",
   "execution_count": 825,
   "metadata": {
    "collapsed": false
   },
   "outputs": [
    {
     "data": {
      "text/plain": [
       "'Best Fit: $D_r=2.56$'"
      ]
     },
     "execution_count": 825,
     "metadata": {},
     "output_type": "execute_result"
    }
   ],
   "source": [
    "mod_label"
   ]
  },
  {
   "cell_type": "code",
   "execution_count": 660,
   "metadata": {
    "collapsed": false
   },
   "outputs": [
    {
     "data": {
      "text/plain": [
       "<matplotlib.legend.Legend at 0x7fc566059f10>"
      ]
     },
     "execution_count": 660,
     "metadata": {},
     "output_type": "execute_result"
    },
    {
     "data": {
      "image/png": "[encoded data removed]",
      "text/plain": [
       "<matplotlib.figure.Figure at 0x7fc5661a4590>"
      ]
     },
     "metadata": {},
     "output_type": "display_data"
    }
   ],
   "source": [
    "a0 = .75\n",
    "bh1, = plt.loglog(sMass,10**quad_model.predict(np.c_[np.log10(sMass)**2,np.log10(sMass),np.ones(len(sMass))]),'b-.',lw=1,label='$\\\\log(B) = c_0 + c_1\\\\log(M) + c_2\\\\log(M)^2$')\n",
    "bh2, = plt.loglog(sMass,PT(cPT,sMass),color='b',linestyle=(0,(10,2)),lw=1,label='$M = c_0 B + c_1 B log B + c_2 B^p$',alpha=a0)\n",
    "bh3, = plt.loglog(sMass,FH(cFH,sMass),'b:',lw=1,label='$B = M \\\\left( c_1 W \\\\left( \\\\frac{e^{c_0/c_1} M}{c_1} \\\\right)\\\\right)^{-1}$',alpha=a0)\n",
    "bh4, = plt.loglog(sMass,WBEEx(cWBEEx,sMass),color='b',ls='--',lw=1,label='$M \\sim B + B^{\\\\frac{4}{3}}$',alpha=a0)\n",
    "bh5, = plt.loglog(sMass,WBE(cWBE,sMass),color = 'b',ls='-',lw=1,label='$B \\sim M^{\\\\frac{3}{4}}$',alpha=a0)\n",
    "dh, = plt.plot(data_noTnoO.Mass,data_noTnoO.BMRkjh,'k.',label='Data',ms=3)\n",
    "\n",
    "\n",
    "#rh1, = plt.loglog(sMass,MFBE(cMFBE,sMass),'r--',lw=1,label='$B =c_0 M^{\\\\frac{3}{D_r} - \\\\frac{5}{4}} + c_1M^{\\\\frac{3}{2D_r} + \\\\frac{1}{12}}$')\n",
    "#rh2, = plt.loglog(sMass,MFBEv2(cMFBEv2,sMass),'r-',lw=1,label='$B =c_0 M^{\\\\frac{3}{D_r} - \\\\frac{4}{3}} + c_1M^{\\\\frac{3}{2D_r}}$')\n",
    "#rh3, = plt.loglog(sMass,MFBEv3(cMFBEv3,sMass),'r-.',lw=1,label='$B =c_0 M^{\\\\frac{1}{6}} + c_1M^{\\\\frac{3}{4}}$')\n",
    "#rh4, = plt.loglog(sMass,MFBEv4(cMFBEv4,sMass),'r:',lw=1,label='$B =c_0 M^{\\\\frac{1}{4}} + c_1M^{\\\\frac{3}{4}}$')\n",
    "#rh5, = plt.loglog(sMass,MFBEv5(cMFBEv5,sMass),'g:',lw=1,label='$B =c_0 M + c_1M^{a_1}$')\n",
    "#rh6, = plt.loglog(sMass,MFBEv6(cMFBEv6,sMass),'g--',lw=1,label='$B =c_0 M^{\\\\frac{m}{3}} + c_1M^{m}$')\n",
    "#rh7, = plt.loglog(sMass,MFBEv7(cMFBEv7,sMass,0.75),'g-',lw=3,label='$B =c_0 M^{\\\\frac{3}{4}} + c_1M^{1}$')\n",
    "#rh7, = plt.loglog(sMass,MFBEv8(cMFBEv8,sMass),'g-',lw=3,label='$B =c_0 M^{\\\\frac{3}{4}} + c_1M^{1}$')\n",
    "rh9, = plt.loglog(sMass,MFBEv9(cMFBEv9_min,sMass),'g-',lw=3,label='New MODEL!!')\n",
    "\n",
    "\n",
    "plt.xlim(1,10**6)\n",
    "plt.ylim(0.07,2000)\n",
    "plt.xlabel('Mass ($g$)')\n",
    "plt.ylabel('BMR ($kJ/h$)')\n",
    "first_legend = plt.legend(handles=[bh1,bh2,bh3,bh4,bh5],loc='upper left',fontsize=18,ncol=1,frameon=False)\n",
    "ax = plt.gca().add_artist(first_legend)\n",
    "plt.legend(handles=[rh2,rh1,rh3,rh4,rh5,rh6,rh7],loc='lower right',fontsize=18,ncol=1,frameon=False)"
   ]
  },
  {
   "cell_type": "code",
   "execution_count": 598,
   "metadata": {
    "collapsed": false
   },
   "outputs": [
    {
     "data": {
      "text/plain": [
       "[<matplotlib.lines.Line2D at 0x7fc5677b82d0>]"
      ]
     },
     "execution_count": 598,
     "metadata": {},
     "output_type": "execute_result"
    },
    {
     "data": {
      "image/png": "[encoded data removed]",
      "text/plain": [
       "<matplotlib.figure.Figure at 0x7fc566d46490>"
      ]
     },
     "metadata": {},
     "output_type": "display_data"
    }
   ],
   "source": [
    "plt.loglog(sBMR**(4./3.) + sBMR,sBMR,'r-',lw=1)\n",
    "plt.loglog(sBMR**(4./3.),sBMR,'k:')"
   ]
  },
  {
   "cell_type": "code",
   "execution_count": 599,
   "metadata": {
    "collapsed": false
   },
   "outputs": [
    {
     "data": {
      "text/plain": [
       "array([ 0.11407942,  0.04548941,  2.18449392])"
      ]
     },
     "execution_count": 599,
     "metadata": {},
     "output_type": "execute_result"
    }
   ],
   "source": [
    "cMFBE"
   ]
  },
  {
   "cell_type": "code",
   "execution_count": 803,
   "metadata": {
    "collapsed": false
   },
   "outputs": [
    {
     "data": {
      "text/plain": [
       "[('MFBEv5', 0.02530042831515646),\n",
       " ('Quad', 0.025455355905786715),\n",
       " ('MFBEv6', 0.025769443192342176),\n",
       " ('MFBEv10', 0.025911058522863347),\n",
       " ('MFBEv2', 0.026117017236119488),\n",
       " ('MFBEv1 (Paper)', 0.026337827252397788),\n",
       " ('MFBEv4', 0.026339892054528247),\n",
       " ('MFBEv3', 0.026362936877494535),\n",
       " ('MFBEv9', 0.026769338619693973),\n",
       " ('WBE2', 0.027433406025689496),\n",
       " ('PT', 0.02743741632224198),\n",
       " ('FH', 0.027730377186440072),\n",
       " ('MFBEv8', 0.02843517532874008),\n",
       " ('WBEEx', 0.028653599343497777),\n",
       " ('WBE', 0.028653629370625787)]"
      ]
     },
     "execution_count": 803,
     "metadata": {},
     "output_type": "execute_result"
    }
   ],
   "source": [
    "M = data_noTnoO.Mass\n",
    "B = data_noTnoO.BMRkjh\n",
    "dist_func = sq_dist\n",
    "d = {'Quad':dist_func(cQuad,Quad,M,B)/len(M),\n",
    " 'PT':dist_func(cPT,PT,M,B)/len(M),\n",
    " 'FH':dist_func(cFH,FH,M,B)/len(M),\n",
    " 'WBEEx':dist_func(cWBEEx,WBEEx,M,B)/len(M),\n",
    " 'WBE':dist_func(cWBE,WBE,M,B)/len(M),\n",
    " 'WBE2':dist_func(cWBE2,WBE2,M,B)/len(M),\n",
    " 'MFBEv1 (Paper)':dist_func(cMFBE,MFBE,M,B)/len(M),\n",
    " 'MFBEv2':dist_func(cMFBEv2,MFBEv2,M,B)/len(M),\n",
    " 'MFBEv3':dist_func(cMFBEv3,MFBEv3,M,B)/len(M),\n",
    " 'MFBEv4':dist_func(cMFBEv4,MFBEv4,M,B)/len(M),\n",
    " 'MFBEv5':dist_func(cMFBEv5,MFBEv5,M,B)/len(M),\n",
    " 'MFBEv6':dist_func(cMFBEv6,MFBEv6,M,B)/len(M),\n",
    " 'MFBEv8':dist_func(cMFBEv8,MFBEv8,M,B)/len(M),\n",
    " 'MFBEv9':dist_func(cMFBEv9,MFBEv9,M,B)/len(M),\n",
    " 'MFBEv10':dist_func(cMFBEv10,MFBEv10,M,B)/len(M)}\n",
    "sorted(d.items(),key=lambda i: i[1])"
   ]
  },
  {
   "cell_type": "code",
   "execution_count": 804,
   "metadata": {
    "collapsed": false
   },
   "outputs": [
    {
     "data": {
      "text/plain": [
       "[('MFBEv5', 0.12112241624747824),\n",
       " ('MFBEv2', 0.12134762209063042),\n",
       " ('Quad', 0.12170781286778609),\n",
       " ('MFBEv10', 0.12344194832538559),\n",
       " ('MFBEv1 (Paper)', 0.12425911076877769),\n",
       " ('MFBEv4', 0.1244023083187253),\n",
       " ('MFBEv3', 0.12455403650131638),\n",
       " ('MFBEv6', 0.12477542492325787),\n",
       " ('MFBEv9', 0.12582189376918135),\n",
       " ('FH', 0.1260595702589926),\n",
       " ('WBE2', 0.12710528251882836),\n",
       " ('PT', 0.12711463949094645),\n",
       " ('MFBEv8', 0.12934157648654204),\n",
       " ('WBE', 0.12962228506433632),\n",
       " ('WBEEx', 0.12962228506435042)]"
      ]
     },
     "execution_count": 804,
     "metadata": {},
     "output_type": "execute_result"
    }
   ],
   "source": [
    "M = data_noTnoO.Mass\n",
    "B = data_noTnoO.BMRkjh\n",
    "dist_func = abs_dist\n",
    "d = {'Quad':dist_func(cQuad_abs,Quad,M,B)/len(M),\n",
    " 'PT':dist_func(cPT_abs,PT,M,B)/len(M),\n",
    " 'FH':dist_func(cFH_abs,FH,M,B)/len(M),\n",
    " 'WBEEx':dist_func(cWBEEx_abs,WBEEx,M,B)/len(M),\n",
    " 'WBE':dist_func(cWBE_abs,WBE,M,B)/len(M),\n",
    " 'WBE2':dist_func(cWBE2_abs,WBE2,M,B)/len(M),\n",
    " 'MFBEv1 (Paper)':dist_func(cMFBE_abs,MFBE,M,B)/len(M),\n",
    " 'MFBEv2':dist_func(cMFBEv2_abs,MFBEv2,M,B)/len(M),\n",
    " 'MFBEv3':dist_func(cMFBEv3_abs,MFBEv3,M,B)/len(M),\n",
    " 'MFBEv4':dist_func(cMFBEv4_abs,MFBEv4,M,B)/len(M),\n",
    " 'MFBEv5':dist_func(cMFBEv5_abs,MFBEv5,M,B)/len(M),\n",
    " 'MFBEv6':dist_func(cMFBEv6_abs,MFBEv6,M,B)/len(M),\n",
    " 'MFBEv8':dist_func(cMFBEv8_abs,MFBEv8,M,B)/len(M),\n",
    " 'MFBEv9':dist_func(cMFBEv9_abs,MFBEv9,M,B)/len(M),\n",
    " 'MFBEv10':dist_func(cMFBEv10_abs,MFBEv10,M,B)/len(M)}\n",
    "sorted(d.items(),key=lambda i: i[1])"
   ]
  },
  {
   "cell_type": "code",
   "execution_count": 805,
   "metadata": {
    "collapsed": false
   },
   "outputs": [
    {
     "data": {
      "text/plain": [
       "[('MFBEv5', array([ 0.09876416])),\n",
       " ('MFBEv2', array([ 0.09894121])),\n",
       " ('Quad', array([ 0.09954657])),\n",
       " ('MFBEv10', array([ 0.10093809])),\n",
       " ('MFBEv6', array([ 0.10107801])),\n",
       " ('MFBEv4', array([ 0.10210339])),\n",
       " ('MFBEv3', array([ 0.10229255])),\n",
       " ('MFBEv1 (Paper)', array([ 0.10249883])),\n",
       " ('MFBEv9', array([ 0.10286942])),\n",
       " ('WBE2', array([ 0.10296482])),\n",
       " ('PT', array([ 0.10296967])),\n",
       " ('MFBEv8', array([ 0.10368787])),\n",
       " ('WBEEx', array([ 0.10369783])),\n",
       " ('WBE', array([ 0.10369783])),\n",
       " ('FH', array([ 0.10486177]))]"
      ]
     },
     "execution_count": 805,
     "metadata": {},
     "output_type": "execute_result"
    }
   ],
   "source": [
    "M = data_noTnoO.Mass\n",
    "B = data_noTnoO.BMRkjh\n",
    "dist_func = min_dist\n",
    "d = {'Quad':dist_func(cQuad_min,Quad,M,B)/len(M),\n",
    " 'PT':dist_func(cPT_min,PT,M,B)/len(M),\n",
    " 'FH':dist_func(cFH_min,FH,M,B)/len(M),\n",
    " 'WBEEx':dist_func(cWBEEx_min,WBEEx,M,B)/len(M),\n",
    " 'WBE':dist_func(cWBE_min,WBE,M,B)/len(M),\n",
    " 'WBE2':dist_func(cWBE2_min,WBE2,M,B)/len(M),\n",
    " 'MFBEv1 (Paper)':dist_func(cMFBE_min,MFBE,M,B)/len(M),\n",
    " 'MFBEv2':dist_func(cMFBEv2_min,MFBEv2,M,B)/len(M),\n",
    " 'MFBEv3':dist_func(cMFBEv3_min,MFBEv3,M,B)/len(M),\n",
    " 'MFBEv4':dist_func(cMFBEv4_min,MFBEv4,M,B)/len(M),\n",
    " 'MFBEv5':dist_func(cMFBEv5_min,MFBEv5,M,B)/len(M),\n",
    " 'MFBEv6':dist_func(cMFBEv6_min,MFBEv6,M,B)/len(M),\n",
    " 'MFBEv8':dist_func(cMFBEv8_min,MFBEv8,M,B)/len(M),\n",
    " 'MFBEv9':dist_func(cMFBEv9_min,MFBEv9,M,B)/len(M),\n",
    " 'MFBEv10':dist_func(cMFBEv10_min,MFBEv10,M,B)/len(M)}\n",
    "sorted(d.items(),key=lambda i: i[1])"
   ]
  },
  {
   "cell_type": "code",
   "execution_count": 806,
   "metadata": {
    "collapsed": false
   },
   "outputs": [
    {
     "data": {
      "text/plain": [
       "[('MFBEv5', array([ 0.01681123])),\n",
       " ('Quad', array([ 0.01703746])),\n",
       " ('MFBEv10', array([ 0.01733438])),\n",
       " ('MFBEv6', array([ 0.01741493])),\n",
       " ('MFBEv4', array([ 0.0177079])),\n",
       " ('MFBEv2', array([ 0.01772701])),\n",
       " ('MFBEv3', array([ 0.01777814])),\n",
       " ('MFBEv1 (Paper)', array([ 0.01782448])),\n",
       " ('MFBEv9', array([ 0.01798025])),\n",
       " ('WBE2', array([ 0.01800663])),\n",
       " ('PT', array([ 0.01800757])),\n",
       " ('MFBEv8', array([ 0.01832487])),\n",
       " ('WBEEx', array([ 0.0183383])),\n",
       " ('WBE', array([ 0.01833832])),\n",
       " ('FH', array([ 0.01913594]))]"
      ]
     },
     "execution_count": 806,
     "metadata": {},
     "output_type": "execute_result"
    }
   ],
   "source": [
    "M = data_noTnoO.Mass\n",
    "B = data_noTnoO.BMRkjh\n",
    "dist_func = min_dist_sq\n",
    "d = {'Quad':dist_func(cQuad_min_sq,Quad,M,B)/len(M),\n",
    " 'PT':dist_func(cPT_min_sq,PT,M,B)/len(M),\n",
    " 'FH':dist_func(cFH_min_sq,FH,M,B)/len(M),\n",
    " 'WBEEx':dist_func(cWBEEx_min_sq,WBEEx,M,B)/len(M),\n",
    " 'WBE':dist_func(cWBE_min_sq,WBE,M,B)/len(M),\n",
    " 'WBE2':dist_func(cWBE2_min_sq,WBE2,M,B)/len(M),\n",
    " 'MFBEv1 (Paper)':dist_func(cMFBE_min_sq,MFBE,M,B)/len(M),\n",
    " 'MFBEv2':dist_func(cMFBEv2_min_sq,MFBEv2,M,B)/len(M),\n",
    " 'MFBEv3':dist_func(cMFBEv3_min_sq,MFBEv3,M,B)/len(M),\n",
    " 'MFBEv4':dist_func(cMFBEv4_min_sq,MFBEv4,M,B)/len(M),\n",
    " 'MFBEv5':dist_func(cMFBEv5_min_sq,MFBEv5,M,B)/len(M),\n",
    " 'MFBEv6':dist_func(cMFBEv6_min_sq,MFBEv6,M,B)/len(M),\n",
    " 'MFBEv8':dist_func(cMFBEv8_min_sq,MFBEv8,M,B)/len(M),\n",
    " 'MFBEv9':dist_func(cMFBEv9_min_sq,MFBEv9,M,B)/len(M),\n",
    " 'MFBEv10':dist_func(cMFBEv10_min_sq,MFBEv10,M,B)/len(M)}\n",
    "sorted(d.items(),key=lambda i: i[1])"
   ]
  },
  {
   "cell_type": "code",
   "execution_count": null,
   "metadata": {
    "collapsed": false
   },
   "outputs": [],
   "source": [
    "plt.scatter(data_noTnoO.Mass,data_noTnoO.BMRkjh,c='k',marker='o',edgecolor='w',label='Data')\n",
    "plt.loglog(sMass,WBEEx(cWBEEx_min,sMass),'c-',lw=1,label='WBE')\n",
    "plt.loglog(sMass,FH(cFH_min,sMass),'m-',lw=1,label='FH')\n",
    "plt.loglog(sMass,10**quad_model.predict(np.c_[np.log10(sMass)**2,np.log10(sMass),np.ones(len(sMass))]),'b-',lw=1,label='Quad')\n",
    "plt.loglog(sMass,PT(cPT_min,sMass),'g-',lw=1,label='PT')\n",
    "plt.loglog(sMass,MFBE(cMFBE_min,sMass),'r--',lw=3,label='MFBE')\n",
    "plt.xlim(1,10**6)\n",
    "plt.ylim(0.07,2000)\n",
    "plt.xlabel('Mass ($g$)')\n",
    "plt.ylabel('BMR ($kJ/h$)')\n",
    "plt.legend(loc='lower right',fontsize=22,ncol=2)"
   ]
  },
  {
   "cell_type": "code",
   "execution_count": null,
   "metadata": {
    "collapsed": false
   },
   "outputs": [],
   "source": [
    "sMass = np.sort(data_noTnoO.Mass)\n",
    "sBMR = np.log10(data_noTnoO.BMRkjh.values[np.argsort(np.log10(data_noTnoO.Mass))])\n",
    "resid_quad = sBMR - quad_model.predict(np.c_[np.log10(sMass)**2,np.log10(sMass),np.ones(len(data_noTnoO.Mass))])\n",
    "resid_WBEEx = sBMR - np.log10(WBEEx(cWBEEx_min,sMass))\n",
    "resid_FH = sBMR - np.log10(FH(cFH_min,sMass))\n",
    "resid_MFBE = sBMR - np.log10(MFBE(cMFBE_min,sMass))\n",
    "resid_PT = sBMR - np.log10(PT(cPT_min,sMass))\n",
    "#plt.semilogx(sMass,resid_MFBE,'k.',label='MFBE Residuals')\n",
    "plt.semilogx(sMass,sm.nonparametric.lowess(resid_MFBE,np.log10(sMass),return_sorted=False),'r--',lw=3,label='MFBE')\n",
    "plt.semilogx(sMass,sm.nonparametric.lowess(resid_WBEEx,np.log10(sMass),return_sorted=False),'b-',lw=1,label='WBEEx')\n",
    "plt.semilogx(sMass,sm.nonparametric.lowess(resid_FH,np.log10(sMass),return_sorted=False),'g-',lw=1,label='FH')\n",
    "plt.semilogx(sMass,sm.nonparametric.lowess(resid_quad,np.log10(sMass),return_sorted=False),'m-',lw=1,label='Quad')\n",
    "plt.semilogx(sMass,sm.nonparametric.lowess(resid_PT,np.log10(sMass),return_sorted=False),'c-',lw=1,label='PT')\n",
    "plt.hlines(0,1,10**6,color='k',linestyle=':')\n",
    "#plt.xlim(0,len(data_noTnoO))\n",
    "plt.legend(loc='upper left',fontsize=20,ncol=2)\n",
    "plt.xlabel('Mass ($g$)')\n",
    "plt.ylabel('Residuals')"
   ]
  },
  {
   "cell_type": "code",
   "execution_count": 49,
   "metadata": {
    "collapsed": false
   },
   "outputs": [
    {
     "data": {
      "text/plain": [
       "<matplotlib.text.Text at 0x7ffdd6ff7bd0>"
      ]
     },
     "execution_count": 49,
     "metadata": {},
     "output_type": "execute_result"
    },
    {
     "data": {
      "image/png": "[encoded data removed]",
      "text/plain": [
       "<matplotlib.figure.Figure at 0x7ffdd561c710>"
      ]
     },
     "metadata": {},
     "output_type": "display_data"
    }
   ],
   "source": [
    "sMass = np.sort(data_noTnoO.Mass)\n",
    "sBMR = np.log10(data_noTnoO.BMRkjh.values[np.argsort(np.log10(data_noTnoO.Mass))])\n",
    "#resid_quad = sBMR - quad_model.predict(np.c_[np.log10(sMass)**2,np.log10(sMass),np.ones(len(data_noTnoO.Mass))])\n",
    "#resid_WBEEx = sBMR - np.log10(WBEEx(cWBEEx_min,sMass))\n",
    "#resid_FH = sBMR - np.log10(FH(cFH_min,sMass))\n",
    "resid_MFBE = sBMR - np.log10(MFBE(cMFBE,sMass))\n",
    "resid_MFBEv2 = sBMR - np.log10(MFBEv2(cMFBEv2_min,sMass))\n",
    "#resid_PT = sBMR - np.log10(PT(cPT_min,sMass))\n",
    "#plt.semilogx(sMass,resid_MFBE,'k.',label='MFBE Residuals')\n",
    "plt.semilogx(sMass,sm.nonparametric.lowess(resid_MFBE,np.log10(sMass),return_sorted=False),'r--',lw=3,label='MFBE')\n",
    "plt.semilogx(sMass,sm.nonparametric.lowess(resid_MFBEv2,np.log10(sMass),return_sorted=False),'g--',lw=3,label='MFBEv2')\n",
    "#plt.semilogx(sMass,sm.nonparametric.lowess(resid_WBEEx,np.log10(sMass),return_sorted=False),'b-',lw=1,label='WBEEx')\n",
    "#plt.semilogx(sMass,sm.nonparametric.lowess(resid_FH,np.log10(sMass),return_sorted=False),'g-',lw=1,label='FH')\n",
    "#plt.semilogx(sMass,sm.nonparametric.lowess(resid_quad,np.log10(sMass),return_sorted=False),'m-',lw=1,label='Quad')\n",
    "#plt.semilogx(sMass,sm.nonparametric.lowess(resid_PT,np.log10(sMass),return_sorted=False),'c-',lw=1,label='PT')\n",
    "plt.hlines(0,1,10**6,color='k',linestyle=':')\n",
    "#plt.xlim(0,len(data_noTnoO))\n",
    "plt.legend(loc='upper left',fontsize=20,ncol=2)\n",
    "plt.xlabel('Mass ($g$)')\n",
    "plt.ylabel('Residuals')"
   ]
  },
  {
   "cell_type": "code",
   "execution_count": 50,
   "metadata": {
    "collapsed": false
   },
   "outputs": [
    {
     "name": "stdout",
     "output_type": "stream",
     "text": [
      "16.7508581058\n",
      "17.1107056133\n"
     ]
    }
   ],
   "source": [
    "print((resid_MFBE**2).sum())\n",
    "print((resid_MFBEv2**2).sum())"
   ]
  },
  {
   "cell_type": "code",
   "execution_count": null,
   "metadata": {
    "collapsed": false
   },
   "outputs": [],
   "source": [
    "cMFBE_min"
   ]
  },
  {
   "cell_type": "code",
   "execution_count": null,
   "metadata": {
    "collapsed": false
   },
   "outputs": [],
   "source": [
    "cMFBE_abs"
   ]
  },
  {
   "cell_type": "code",
   "execution_count": null,
   "metadata": {
    "collapsed": false
   },
   "outputs": [],
   "source": [
    "cMFBE"
   ]
  },
  {
   "cell_type": "code",
   "execution_count": null,
   "metadata": {
    "collapsed": false
   },
   "outputs": [],
   "source": [
    "print((resid_MFBE**2).sum())\n",
    "print((resid_quad**2).sum())\n",
    "print((resid_FH**2).sum())\n",
    "print((resid_PT**2).sum())\n",
    "print((resid_WBEEx**2).sum())"
   ]
  },
  {
   "cell_type": "code",
   "execution_count": null,
   "metadata": {
    "collapsed": false
   },
   "outputs": [],
   "source": [
    "sMass = np.sort(data_noTnoO.Mass)\n",
    "sBMR = np.log10(data_noTnoO.BMRkjh.values[np.argsort(np.log10(data_noTnoO.Mass))])\n",
    "resid_quad = sBMR - quad_model.predict(np.c_[np.log10(sMass)**2,np.log10(sMass),np.ones(len(data_noTnoO.Mass))])\n",
    "resid_WBEEx = sBMR - np.log10(WBEEx(cWBEEx_abs,sMass))\n",
    "resid_FH = sBMR - np.log10(FH(cFH_abs,sMass))\n",
    "resid_MFBE = sBMR - np.log10(MFBE(cMFBE_abs,sMass))\n",
    "resid_PT = sBMR - np.log10(PT(cPT_abs,sMass))\n",
    "#plt.plot(resid_MFBE,'k.')\n",
    "plt.semilogx(sMass,sm.nonparametric.lowess(resid_MFBE,np.log10(sMass),return_sorted=False),'r--',lw=3,label='MFBE')\n",
    "plt.semilogx(sMass,sm.nonparametric.lowess(resid_WBEEx,np.log10(sMass),return_sorted=False),'b-',lw=1,label='WBEEx')\n",
    "plt.semilogx(sMass,sm.nonparametric.lowess(resid_FH,np.log10(sMass),return_sorted=False),'g-',lw=1,label='FH')\n",
    "plt.semilogx(sMass,sm.nonparametric.lowess(resid_quad,np.log10(sMass),return_sorted=False),'m-',lw=1,label='Quad')\n",
    "plt.semilogx(sMass,sm.nonparametric.lowess(resid_PT,np.log10(sMass),return_sorted=False),'c-',lw=1,label='PT')\n",
    "plt.hlines(0,1,10**6,color='k',linestyle=':')\n",
    "#plt.xlim(0,len(data_noTnoO))\n",
    "plt.legend(loc='upper left',fontsize=20,ncol=2)\n",
    "plt.xlabel('Mass ($g$)')\n",
    "plt.ylabel('Residuals')"
   ]
  },
  {
   "cell_type": "code",
   "execution_count": null,
   "metadata": {
    "collapsed": false
   },
   "outputs": [],
   "source": [
    "print((resid_MFBE**2).sum())\n",
    "print((resid_quad**2).sum())\n",
    "print((resid_FH**2).sum())\n",
    "print((resid_PT**2).sum())\n",
    "print((resid_WBEEx**2).sum())"
   ]
  },
  {
   "cell_type": "code",
   "execution_count": null,
   "metadata": {
    "collapsed": false
   },
   "outputs": [],
   "source": [
    "sMass = np.sort(data_noTnoO.Mass)\n",
    "sBMR = np.log10(data_noTnoO.BMRkjh.values[np.argsort(np.log10(data_noTnoO.Mass))])\n",
    "resid_quad = sBMR - quad_model.predict(np.c_[np.log10(sMass)**2,np.log10(sMass),np.ones(len(data_noTnoO.Mass))])\n",
    "resid_WBEEx = sBMR - np.log10(WBEEx(cWBEEx_min,sMass))\n",
    "resid_FH = sBMR - np.log10(FH(cFH_min,sMass))\n",
    "resid_MFBE = sBMR - np.log10(MFBE(cMFBE_min,sMass))\n",
    "resid_PT = sBMR - np.log10(PT(cPT_min,sMass))\n",
    "#plt.plot(resid_MFBE,'k.')\n",
    "plt.semilogx(sMass,sm.nonparametric.lowess(resid_MFBE,np.log10(sMass),return_sorted=False),'r--',lw=3,label='MFBE')\n",
    "plt.semilogx(sMass,sm.nonparametric.lowess(resid_WBEEx,np.log10(sMass),return_sorted=False),'b-',lw=1,label='WBEEx')\n",
    "plt.semilogx(sMass,sm.nonparametric.lowess(resid_FH,np.log10(sMass),return_sorted=False),'g-',lw=1,label='FH')\n",
    "plt.semilogx(sMass,sm.nonparametric.lowess(resid_quad,np.log10(sMass),return_sorted=False),'m-',lw=1,label='Quad')\n",
    "plt.semilogx(sMass,sm.nonparametric.lowess(resid_PT,np.log10(sMass),return_sorted=False),'c-',lw=1,label='PT')\n",
    "plt.hlines(0,1,10**6,color='k',linestyle=':')\n",
    "#plt.xlim(0,len(data_noTnoO))\n",
    "plt.legend(loc='upper left',fontsize=20,ncol=2)\n",
    "plt.xlabel('Mass ($g$)')\n",
    "plt.ylabel('Residuals')"
   ]
  },
  {
   "cell_type": "code",
   "execution_count": null,
   "metadata": {
    "collapsed": false
   },
   "outputs": [],
   "source": [
    "print((resid_MFBE**2).sum()/len(resid_MFBE))\n",
    "print((resid_quad**2).sum()/len(resid_MFBE))\n",
    "print((resid_FH**2).sum()/len(resid_MFBE))\n",
    "print((resid_PT**2).sum()/len(resid_MFBE))\n",
    "print((resid_WBEEx**2).sum()/len(resid_MFBE))"
   ]
  },
  {
   "cell_type": "code",
   "execution_count": null,
   "metadata": {
    "collapsed": false
   },
   "outputs": [],
   "source": [
    "print(np.abs(resid_MFBE).sum())\n",
    "print(np.abs(resid_quad).sum())\n",
    "print(np.abs(resid_FH).sum())\n",
    "print(np.abs(resid_PT).sum())\n",
    "print(np.abs(resid_WBEEx).sum())"
   ]
  },
  {
   "cell_type": "code",
   "execution_count": null,
   "metadata": {
    "collapsed": true
   },
   "outputs": [],
   "source": []
  }
 ],
 "metadata": {
  "kernelspec": {
   "display_name": "Python 2",
   "language": "python",
   "name": "python2"
  },
  "language_info": {
   "codemirror_mode": {
    "name": "ipython",
    "version": 2
   },
   "file_extension": ".py",
   "mimetype": "text/x-python",
   "name": "python",
   "nbconvert_exporter": "python",
   "pygments_lexer": "ipython2",
   "version": "2.7.10"
  }
 },
 "nbformat": 4,
 "nbformat_minor": 0
}
