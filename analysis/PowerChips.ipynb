{
 "cells": [
  {
   "cell_type": "code",
   "execution_count": 3,
   "metadata": {
    "collapsed": false
   },
   "outputs": [],
   "source": [
    "import pandas as pd\n",
    "import matplotlib.pyplot as plt\n",
    "import numpy as np\n",
    "import scipy.stats as st\n",
    "import statsmodels.api as sm\n",
    "import RMA\n",
    "import scipy.optimize as opt"
   ]
  },
  {
   "cell_type": "code",
   "execution_count": 4,
   "metadata": {
    "collapsed": true
   },
   "outputs": [],
   "source": [
    "import matplotlib as mpl"
   ]
  },
  {
   "cell_type": "code",
   "execution_count": 5,
   "metadata": {
    "collapsed": false
   },
   "outputs": [],
   "source": [
    "%matplotlib inline"
   ]
  },
  {
   "cell_type": "code",
   "execution_count": 6,
   "metadata": {
    "collapsed": false
   },
   "outputs": [],
   "source": [
    "mpl.rcParams['font.family']='serif'\n",
    "mpl.rcParams['font.serif'] = 'Times'\n",
    "mpl.rcParams['font.weight'] = 'bold'\n",
    "mpl.rcParams['text.usetex']=True\n",
    "mpl.rcParams['figure.figsize'] = (10,7.15)\n",
    "mpl.rcParams['xtick.labelsize'] = 22\n",
    "mpl.rcParams['ytick.labelsize'] = 22\n",
    "mpl.rcParams['axes.labelsize'] = 28\n",
    "mpl.rcParams['legend.numpoints'] = 1\n",
    "mpl.rcParams['legend.fontsize'] = 26\n",
    "mpl.rcParams['legend.scatterpoints'] = 1\n",
    "mpl.rcParams['lines.linewidth'] = 2\n",
    "mpl.rcParams['lines.markeredgewidth'] = 0\n",
    "mpl.rcParams['figure.titlesize'] = 28\n",
    "mpl.rcParams['figure.dpi'] = 80\n",
    "mpl.rcParams['image.interpolation'] = 'nearest'\n",
    "mpl.rcParams['savefig.dpi'] = 80\n",
    "mpl.rcParams['patch.linewidth'] = 0.5"
   ]
  },
  {
   "cell_type": "code",
   "execution_count": 7,
   "metadata": {
    "collapsed": true
   },
   "outputs": [],
   "source": [
    "data = pd.read_excel('../data/Supplementary_Data_Microprocessors.xls',header=1)"
   ]
  },
  {
   "cell_type": "code",
   "execution_count": 8,
   "metadata": {
    "collapsed": false
   },
   "outputs": [],
   "source": [
    "data1 = data[[u'Chip', u'f', u'V',u'P',u'lambda',u'N',u'Achip']]"
   ]
  },
  {
   "cell_type": "code",
   "execution_count": 9,
   "metadata": {
    "collapsed": true
   },
   "outputs": [],
   "source": [
    "data2 = data[[u'Chip.1', u'f.1', u'V.1', u'P.1',u'lambda.1', u'N.1', u'Achip.1']]"
   ]
  },
  {
   "cell_type": "code",
   "execution_count": 10,
   "metadata": {
    "collapsed": false
   },
   "outputs": [
    {
     "name": "stderr",
     "output_type": "stream",
     "text": [
      "/nfs/adaptive/bedwards/anaconda/lib/python2.7/site-packages/ipykernel/__main__.py:3: SettingWithCopyWarning: \n",
      "A value is trying to be set on a copy of a slice from a DataFrame.\n",
      "Try using .loc[row_indexer,col_indexer] = value instead\n",
      "\n",
      "See the caveats in the documentation: http://pandas.pydata.org/pandas-docs/stable/indexing.html#indexing-view-versus-copy\n",
      "  app.launch_new_instance()\n"
     ]
    }
   ],
   "source": [
    "for c in data2.columns:\n",
    "    name = c.split('.')[0]\n",
    "    data2[name] = data2.loc[:,c]\n",
    "    del data2[c]"
   ]
  },
  {
   "cell_type": "code",
   "execution_count": 11,
   "metadata": {
    "collapsed": false
   },
   "outputs": [],
   "source": [
    "df = pd.concat([data1,data2.dropna()])"
   ]
  },
  {
   "cell_type": "code",
   "execution_count": 12,
   "metadata": {
    "collapsed": true
   },
   "outputs": [],
   "source": [
    "df['constant']= np.ones(len(df))\n",
    "df['f'] = df['f']*10**6\n",
    "df['size'] = df['lambda']*10**-9\n",
    "del df['lambda']\n",
    "df['N'] = df['N']*10**6"
   ]
  },
  {
   "cell_type": "code",
   "execution_count": 13,
   "metadata": {
    "collapsed": false
   },
   "outputs": [
    {
     "data": {
      "text/plain": [
       "Index([u'Chip', u'f', u'V', u'P', u'N', u'Achip', u'constant', u'size'], dtype='object')"
      ]
     },
     "execution_count": 13,
     "metadata": {},
     "output_type": "execute_result"
    }
   ],
   "source": [
    "df.columns"
   ]
  },
  {
   "cell_type": "code",
   "execution_count": 14,
   "metadata": {
    "collapsed": true
   },
   "outputs": [],
   "source": [
    "df['logN'] = np.log10(df.N)\n",
    "df['Tsys'] = 1.0/df.f"
   ]
  },
  {
   "cell_type": "code",
   "execution_count": 15,
   "metadata": {
    "collapsed": false
   },
   "outputs": [],
   "source": [
    "power_gls = sm.GLS(np.log10(df.P),df[['logN','constant']]).fit()"
   ]
  },
  {
   "cell_type": "code",
   "execution_count": 16,
   "metadata": {
    "collapsed": true
   },
   "outputs": [],
   "source": [
    "def theoretical_model(c,X):\n",
    "    return c*(X**0.5)"
   ]
  },
  {
   "cell_type": "code",
   "execution_count": 17,
   "metadata": {
    "collapsed": false
   },
   "outputs": [],
   "source": [
    "def sq_dist(c,f,X,Y):\n",
    "    fX = f(c,X)\n",
    "    if np.any(fX < 0):\n",
    "        return np.inf\n",
    "    return ((np.log10(fX) - np.log10(Y))**2).sum()"
   ]
  },
  {
   "cell_type": "code",
   "execution_count": 18,
   "metadata": {
    "collapsed": false
   },
   "outputs": [
    {
     "name": "stdout",
     "output_type": "stream",
     "text": [
      "Optimization terminated successfully.\n",
      "         Current function value: 24.558042\n",
      "         Iterations: 37\n",
      "         Function evaluations: 74\n"
     ]
    }
   ],
   "source": [
    "cTheory = opt.fmin(sq_dist,x0=[50],args=(theoretical_model,df.N,df.P))"
   ]
  },
  {
   "cell_type": "code",
   "execution_count": 19,
   "metadata": {
    "collapsed": false
   },
   "outputs": [
    {
     "data": {
      "text/plain": [
       "array([ 0.00635147])"
      ]
     },
     "execution_count": 19,
     "metadata": {},
     "output_type": "execute_result"
    }
   ],
   "source": [
    "cTheory"
   ]
  },
  {
   "cell_type": "code",
   "execution_count": 20,
   "metadata": {
    "collapsed": false
   },
   "outputs": [],
   "source": [
    "sN = np.sort(df.N.values)"
   ]
  },
  {
   "cell_type": "code",
   "execution_count": 21,
   "metadata": {
    "collapsed": false
   },
   "outputs": [
    {
     "data": {
      "text/plain": [
       "logN        0.495435\n",
       "constant   -2.163100\n",
       "dtype: float64"
      ]
     },
     "execution_count": 21,
     "metadata": {},
     "output_type": "execute_result"
    }
   ],
   "source": [
    "power_gls.params"
   ]
  },
  {
   "cell_type": "code",
   "execution_count": 22,
   "metadata": {
    "collapsed": false
   },
   "outputs": [
    {
     "data": {
      "text/html": [
       "<table class=\"simpletable\">\n",
       "<caption>GLS Regression Results</caption>\n",
       "<tr>\n",
       "  <th>Dep. Variable:</th>            <td>P</td>        <th>  R-squared:         </th> <td>   0.653</td> \n",
       "</tr>\n",
       "<tr>\n",
       "  <th>Model:</th>                   <td>GLS</td>       <th>  Adj. R-squared:    </th> <td>   0.652</td> \n",
       "</tr>\n",
       "<tr>\n",
       "  <th>Method:</th>             <td>Least Squares</td>  <th>  F-statistic:       </th> <td>   979.9</td> \n",
       "</tr>\n",
       "<tr>\n",
       "  <th>Date:</th>             <td>Mon, 28 Dec 2015</td> <th>  Prob (F-statistic):</th> <td>8.48e-122</td>\n",
       "</tr>\n",
       "<tr>\n",
       "  <th>Time:</th>                 <td>14:58:06</td>     <th>  Log-Likelihood:    </th> <td>  57.746</td> \n",
       "</tr>\n",
       "<tr>\n",
       "  <th>No. Observations:</th>      <td>   523</td>      <th>  AIC:               </th> <td>  -111.5</td> \n",
       "</tr>\n",
       "<tr>\n",
       "  <th>Df Residuals:</th>          <td>   521</td>      <th>  BIC:               </th> <td>  -103.0</td> \n",
       "</tr>\n",
       "<tr>\n",
       "  <th>Df Model:</th>              <td>     1</td>      <th>                     </th>     <td> </td>    \n",
       "</tr>\n",
       "<tr>\n",
       "  <th>Covariance Type:</th>      <td>nonrobust</td>    <th>                     </th>     <td> </td>    \n",
       "</tr>\n",
       "</table>\n",
       "<table class=\"simpletable\">\n",
       "<tr>\n",
       "      <td></td>        <th>coef</th>     <th>std err</th>      <th>t</th>      <th>P>|t|</th> <th>[95.0% Conf. Int.]</th> \n",
       "</tr>\n",
       "<tr>\n",
       "  <th>logN</th>     <td>    0.4954</td> <td>    0.016</td> <td>   31.304</td> <td> 0.000</td> <td>    0.464     0.527</td>\n",
       "</tr>\n",
       "<tr>\n",
       "  <th>constant</th> <td>   -2.1631</td> <td>    0.118</td> <td>  -18.328</td> <td> 0.000</td> <td>   -2.395    -1.931</td>\n",
       "</tr>\n",
       "</table>\n",
       "<table class=\"simpletable\">\n",
       "<tr>\n",
       "  <th>Omnibus:</th>       <td>55.092</td> <th>  Durbin-Watson:     </th> <td>   0.532</td>\n",
       "</tr>\n",
       "<tr>\n",
       "  <th>Prob(Omnibus):</th> <td> 0.000</td> <th>  Jarque-Bera (JB):  </th> <td>  70.057</td>\n",
       "</tr>\n",
       "<tr>\n",
       "  <th>Skew:</th>          <td>-0.841</td> <th>  Prob(JB):          </th> <td>6.13e-16</td>\n",
       "</tr>\n",
       "<tr>\n",
       "  <th>Kurtosis:</th>      <td> 3.620</td> <th>  Cond. No.          </th> <td>    94.4</td>\n",
       "</tr>\n",
       "</table>"
      ],
      "text/plain": [
       "<class 'statsmodels.iolib.summary.Summary'>\n",
       "\"\"\"\n",
       "                            GLS Regression Results                            \n",
       "==============================================================================\n",
       "Dep. Variable:                      P   R-squared:                       0.653\n",
       "Model:                            GLS   Adj. R-squared:                  0.652\n",
       "Method:                 Least Squares   F-statistic:                     979.9\n",
       "Date:                Mon, 28 Dec 2015   Prob (F-statistic):          8.48e-122\n",
       "Time:                        14:58:06   Log-Likelihood:                 57.746\n",
       "No. Observations:                 523   AIC:                            -111.5\n",
       "Df Residuals:                     521   BIC:                            -103.0\n",
       "Df Model:                           1                                         \n",
       "Covariance Type:            nonrobust                                         \n",
       "==============================================================================\n",
       "                 coef    std err          t      P>|t|      [95.0% Conf. Int.]\n",
       "------------------------------------------------------------------------------\n",
       "logN           0.4954      0.016     31.304      0.000         0.464     0.527\n",
       "constant      -2.1631      0.118    -18.328      0.000        -2.395    -1.931\n",
       "==============================================================================\n",
       "Omnibus:                       55.092   Durbin-Watson:                   0.532\n",
       "Prob(Omnibus):                  0.000   Jarque-Bera (JB):               70.057\n",
       "Skew:                          -0.841   Prob(JB):                     6.13e-16\n",
       "Kurtosis:                       3.620   Cond. No.                         94.4\n",
       "==============================================================================\n",
       "\n",
       "Warnings:\n",
       "[1] Standard Errors assume that the covariance matrix of the errors is correctly specified.\n",
       "\"\"\""
      ]
     },
     "execution_count": 22,
     "metadata": {},
     "output_type": "execute_result"
    }
   ],
   "source": [
    "power_gls.summary()"
   ]
  },
  {
   "cell_type": "code",
   "execution_count": 23,
   "metadata": {
    "collapsed": true
   },
   "outputs": [],
   "source": [
    "cgls = (10**power_gls.predict([df.logN.min(),1]))/(df.N.min()**0.5)"
   ]
  },
  {
   "cell_type": "code",
   "execution_count": 24,
   "metadata": {
    "collapsed": false
   },
   "outputs": [
    {
     "data": {
      "text/plain": [
       "array([ 0.0066306])"
      ]
     },
     "execution_count": 24,
     "metadata": {},
     "output_type": "execute_result"
    }
   ],
   "source": [
    "cgls"
   ]
  },
  {
   "cell_type": "code",
   "execution_count": 31,
   "metadata": {
    "collapsed": false
   },
   "outputs": [
    {
     "data": {
      "image/png": "[encoded data removed]",
      "text/plain": [
       "<matplotlib.figure.Figure at 0x7f1a3c9c6ed0>"
      ]
     },
     "metadata": {},
     "output_type": "display_data"
    }
   ],
   "source": [
    "plt.scatter(df.N,df.P,color='#4A4A4A',marker='o',edgecolor='w',label='Data')\n",
    "plt.loglog(sN,theoretical_model(cgls,sN),'b-',lw=1,label='Theory: $P \\propto N^{0.5}$')\n",
    "plt.loglog(sN,10**power_gls.predict(np.c_[np.log10(sN),df.constant]),'r--',lw=3,label='Best Fit: $P\\propto N^{0.495}$')\n",
    "plt.xlabel('\\# of Transistors ($N$)')\n",
    "plt.ylabel('Power ($W$)')\n",
    "plt.legend(loc='upper left',frameon=False)\n",
    "plt.savefig('../Figures/ChipsPowerScaling.pdf',dpi=600)"
   ]
  },
  {
   "cell_type": "code",
   "execution_count": null,
   "metadata": {
    "collapsed": false
   },
   "outputs": [],
   "source": [
    "sm.GLS(np.log(df.Tsys),df[['logN','constant']]).fit().summary()"
   ]
  },
  {
   "cell_type": "code",
   "execution_count": null,
   "metadata": {
    "collapsed": false
   },
   "outputs": [],
   "source": [
    "plt.loglog(df['size']**2,df.N,'k.')\n",
    "plt.ylabel('# of Transistors')\n",
    "plt.xlabel('Transistor Area ($m^2$)')"
   ]
  },
  {
   "cell_type": "code",
   "execution_count": null,
   "metadata": {
    "collapsed": true
   },
   "outputs": [],
   "source": [
    "df['lsize'] = np.log(df['size'])"
   ]
  },
  {
   "cell_type": "code",
   "execution_count": null,
   "metadata": {
    "collapsed": false
   },
   "outputs": [],
   "source": [
    "sm.GLS(np.log(df['N']),df[['lsize','constant']]).fit().summary()"
   ]
  },
  {
   "cell_type": "code",
   "execution_count": null,
   "metadata": {
    "collapsed": false
   },
   "outputs": [],
   "source": [
    "df[(df.f==300*10**6) & (df.N==7500000)]"
   ]
  },
  {
   "cell_type": "code",
   "execution_count": null,
   "metadata": {
    "collapsed": false
   },
   "outputs": [],
   "source": [
    "df[df.N > 10**6].f.max()/df[df.N > 10**6].f.min()"
   ]
  },
  {
   "cell_type": "code",
   "execution_count": null,
   "metadata": {
    "collapsed": false
   },
   "outputs": [],
   "source": [
    "df[df.N > 10**6]['size'].max()/df[df.N > 10**6]['size'].min()"
   ]
  },
  {
   "cell_type": "code",
   "execution_count": null,
   "metadata": {
    "collapsed": false
   },
   "outputs": [],
   "source": [
    "plt.loglog(df.N,df.P,'k.',label='Measured')\n",
    "plt.loglog(df.N,3.9*(df.V**2)*df.N*((df['size']*10**-9)**1)*df.f,'r.',label='$P=\\epsilon N \\\\times V^2 \\\\times Size \\\\times Freq$')\n",
    "plt.xlabel('# of Transistors')\n",
    "plt.ylabel('Power (W)')\n",
    "plt.legend(loc='lower right')"
   ]
  },
  {
   "cell_type": "code",
   "execution_count": null,
   "metadata": {
    "collapsed": false
   },
   "outputs": [],
   "source": [
    "plt.loglog(df.N,df.P,'k.',label='Measured')\n",
    "plt.loglog(df.N,df.N*((df['size']*10**-9)**1),'r.',label='$P=N \\\\times Size$')\n",
    "plt.xlabel('# of Transistors')\n",
    "plt.ylabel('Power (W)')\n",
    "plt.legend(loc='center left')"
   ]
  },
  {
   "cell_type": "code",
   "execution_count": null,
   "metadata": {
    "collapsed": false
   },
   "outputs": [],
   "source": [
    "RMA.RMARegression(np.log(df.N),np.log(df.N*df['size']))"
   ]
  },
  {
   "cell_type": "code",
   "execution_count": null,
   "metadata": {
    "collapsed": false
   },
   "outputs": [],
   "source": [
    "RMA.RMARegression(np.log(df.N),np.log(df.P))"
   ]
  },
  {
   "cell_type": "code",
   "execution_count": null,
   "metadata": {
    "collapsed": false
   },
   "outputs": [],
   "source": [
    "plt.loglog(df.P,3.9*(df.V**2)*df.N*((df['size']*10**-9)**1)*df.f,'k.')\n",
    "plt.loglog([.01,1000],[.01,1000],'r--',label='Equality')\n",
    "#plt.loglog((df.V**2)*df.N*((df['size']*10**-9)**1)*df.f,'r.',label='$P=N \\\\times V^2 \\\\times Size \\\\times Freq$')\n",
    "plt.xlabel('Measured Power')\n",
    "plt.ylabel('Calculated Power\\n$P=\\epsilon N \\\\times V^2 \\\\times Size \\\\times Freq$')\n",
    "#plt.xlim(1,1000)\n",
    "#plt.ylim(1,1000)\n",
    "plt.legend(loc='lower right')"
   ]
  },
  {
   "cell_type": "code",
   "execution_count": null,
   "metadata": {
    "collapsed": false
   },
   "outputs": [],
   "source": [
    "sm.GLM(np.log(df.P),df[['logN','constant']]).fit().summary()"
   ]
  },
  {
   "cell_type": "code",
   "execution_count": null,
   "metadata": {
    "collapsed": false
   },
   "outputs": [],
   "source": [
    "sm.GLM(np.log(df.f*df['size']*df.N),df[['logN','constant']]).fit().summary()"
   ]
  },
  {
   "cell_type": "code",
   "execution_count": null,
   "metadata": {
    "collapsed": false
   },
   "outputs": [],
   "source": [
    "RMA.RMARegression(np.log(df.N.values),np.log(df.P.values))"
   ]
  },
  {
   "cell_type": "code",
   "execution_count": null,
   "metadata": {
    "collapsed": false
   },
   "outputs": [],
   "source": [
    "RMA.RMARegression(np.log(df.N.values),np.log(df.N.values*df['size'].values*df.f.values))"
   ]
  },
  {
   "cell_type": "code",
   "execution_count": null,
   "metadata": {
    "collapsed": false
   },
   "outputs": [],
   "source": [
    "plt.loglog(df.N,df.Tsys,'k.')"
   ]
  },
  {
   "cell_type": "code",
   "execution_count": null,
   "metadata": {
    "collapsed": false
   },
   "outputs": [],
   "source": [
    "reload(RMA)"
   ]
  },
  {
   "cell_type": "code",
   "execution_count": null,
   "metadata": {
    "collapsed": false
   },
   "outputs": [],
   "source": [
    "RMA.RMARegression(np.log10(df.N.values),np.log10(df.f.values))"
   ]
  },
  {
   "cell_type": "code",
   "execution_count": null,
   "metadata": {
    "collapsed": false
   },
   "outputs": [],
   "source": [
    "RMA.RMARegression(np.log10(df.N.values),np.log10(df.Tsys.values))"
   ]
  },
  {
   "cell_type": "code",
   "execution_count": null,
   "metadata": {
    "collapsed": false
   },
   "outputs": [],
   "source": [
    "RMA.RMARegression(np.log(df.N),np.log(df['size'].values))"
   ]
  },
  {
   "cell_type": "code",
   "execution_count": null,
   "metadata": {
    "collapsed": false
   },
   "outputs": [],
   "source": [
    "RMA.RMARegression(2*np.log(df['size'].values),np.log(df.N))"
   ]
  },
  {
   "cell_type": "code",
   "execution_count": null,
   "metadata": {
    "collapsed": false
   },
   "outputs": [],
   "source": [
    "df.columns"
   ]
  },
  {
   "cell_type": "code",
   "execution_count": null,
   "metadata": {
    "collapsed": false
   },
   "outputs": [],
   "source": [
    "sm.GLM(np.log(df.N),np.c_[2*df.lsize.values,df.constant.values]).fit().summary()"
   ]
  },
  {
   "cell_type": "code",
   "execution_count": null,
   "metadata": {
    "collapsed": false
   },
   "outputs": [],
   "source": [
    "sm.GLM(np.log(df.f),np.c_[2*df.lsize.values,df.constant.values]).fit().summary()"
   ]
  },
  {
   "cell_type": "code",
   "execution_count": null,
   "metadata": {
    "collapsed": false
   },
   "outputs": [],
   "source": [
    "sm.GLM(np.log(df.P),np.c_[2*df.lsize.values,df.constant.values]).fit().summary()"
   ]
  },
  {
   "cell_type": "code",
   "execution_count": null,
   "metadata": {
    "collapsed": true
   },
   "outputs": [],
   "source": []
  }
 ],
 "metadata": {
  "kernelspec": {
   "display_name": "Python 2",
   "language": "python",
   "name": "python2"
  },
  "language_info": {
   "codemirror_mode": {
    "name": "ipython",
    "version": 2
   },
   "file_extension": ".py",
   "mimetype": "text/x-python",
   "name": "python",
   "nbconvert_exporter": "python",
   "pygments_lexer": "ipython2",
   "version": "2.7.10"
  }
 },
 "nbformat": 4,
 "nbformat_minor": 0
}
