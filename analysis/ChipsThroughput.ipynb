{
 "cells": [
  {
   "cell_type": "code",
   "execution_count": 23,
   "metadata": {
    "collapsed": true
   },
   "outputs": [],
   "source": [
    "import pandas as pd\n",
    "import matplotlib.pyplot as plt\n",
    "import numpy as np\n",
    "import scipy.stats as st\n",
    "import scipy.optimize as opt\n",
    "import statsmodels.api as sm\n",
    "import RMA"
   ]
  },
  {
   "cell_type": "code",
   "execution_count": 2,
   "metadata": {
    "collapsed": true
   },
   "outputs": [],
   "source": [
    "import matplotlib as mpl"
   ]
  },
  {
   "cell_type": "code",
   "execution_count": 3,
   "metadata": {
    "collapsed": true
   },
   "outputs": [],
   "source": [
    "%matplotlib inline"
   ]
  },
  {
   "cell_type": "code",
   "execution_count": 4,
   "metadata": {
    "collapsed": false
   },
   "outputs": [],
   "source": [
    "mpl.rcParams['font.family']='serif'\n",
    "mpl.rcParams['font.serif'] = 'Times'\n",
    "mpl.rcParams['font.weight'] = 'bold'\n",
    "mpl.rcParams['text.usetex']=True\n",
    "mpl.rcParams['figure.figsize'] = (10,7.15)\n",
    "mpl.rcParams['xtick.labelsize'] = 22\n",
    "mpl.rcParams['ytick.labelsize'] = 22\n",
    "mpl.rcParams['axes.labelsize'] = 28\n",
    "mpl.rcParams['legend.numpoints'] = 1\n",
    "mpl.rcParams['legend.fontsize'] = 26\n",
    "mpl.rcParams['legend.scatterpoints'] = 1\n",
    "mpl.rcParams['lines.linewidth'] = 2\n",
    "mpl.rcParams['lines.markeredgewidth'] = 0\n",
    "mpl.rcParams['figure.titlesize'] = 28\n",
    "mpl.rcParams['figure.dpi'] = 80\n",
    "mpl.rcParams['image.interpolation'] = 'nearest'\n",
    "mpl.rcParams['savefig.dpi'] = 80\n",
    "#mpl.rcParams['scatter.edgecolor'] = 'face'"
   ]
  },
  {
   "cell_type": "code",
   "execution_count": 5,
   "metadata": {
    "collapsed": true
   },
   "outputs": [],
   "source": [
    "data = pd.read_csv('../data/IntelThroughput.csv')"
   ]
  },
  {
   "cell_type": "code",
   "execution_count": 6,
   "metadata": {
    "collapsed": true
   },
   "outputs": [],
   "source": [
    "data['f'] = data['f']*10**6\n",
    "data['lambda'] = data['lambda']*10**-9\n",
    "data['N'] = data['N']*10**6"
   ]
  },
  {
   "cell_type": "code",
   "execution_count": 7,
   "metadata": {
    "collapsed": false
   },
   "outputs": [],
   "source": [
    "data['constant']= np.ones(len(data))"
   ]
  },
  {
   "cell_type": "code",
   "execution_count": 8,
   "metadata": {
    "collapsed": true
   },
   "outputs": [],
   "source": [
    "data['logN'] = np.log(data.N)\n",
    "data['logNf'] = np.log(data.N*data.f)"
   ]
  },
  {
   "cell_type": "code",
   "execution_count": 9,
   "metadata": {
    "collapsed": false
   },
   "outputs": [
    {
     "data": {
      "text/html": [
       "<table class=\"simpletable\">\n",
       "<caption>GLS Regression Results</caption>\n",
       "<tr>\n",
       "  <th>Dep. Variable:</th>          <td>DMIPS</td>      <th>  R-squared:         </th> <td>   0.970</td>\n",
       "</tr>\n",
       "<tr>\n",
       "  <th>Model:</th>                   <td>GLS</td>       <th>  Adj. R-squared:    </th> <td>   0.969</td>\n",
       "</tr>\n",
       "<tr>\n",
       "  <th>Method:</th>             <td>Least Squares</td>  <th>  F-statistic:       </th> <td>   3124.</td>\n",
       "</tr>\n",
       "<tr>\n",
       "  <th>Date:</th>             <td>Tue, 24 Nov 2015</td> <th>  Prob (F-statistic):</th> <td>3.84e-76</td>\n",
       "</tr>\n",
       "<tr>\n",
       "  <th>Time:</th>                 <td>15:30:10</td>     <th>  Log-Likelihood:    </th> <td> -74.119</td>\n",
       "</tr>\n",
       "<tr>\n",
       "  <th>No. Observations:</th>      <td>   100</td>      <th>  AIC:               </th> <td>   152.2</td>\n",
       "</tr>\n",
       "<tr>\n",
       "  <th>Df Residuals:</th>          <td>    98</td>      <th>  BIC:               </th> <td>   157.4</td>\n",
       "</tr>\n",
       "<tr>\n",
       "  <th>Df Model:</th>              <td>     1</td>      <th>                     </th>     <td> </td>   \n",
       "</tr>\n",
       "<tr>\n",
       "  <th>Covariance Type:</th>      <td>nonrobust</td>    <th>                     </th>     <td> </td>   \n",
       "</tr>\n",
       "</table>\n",
       "<table class=\"simpletable\">\n",
       "<tr>\n",
       "      <td></td>        <th>coef</th>     <th>std err</th>      <th>t</th>      <th>P>|t|</th> <th>[95.0% Conf. Int.]</th> \n",
       "</tr>\n",
       "<tr>\n",
       "  <th>logN</th>     <td>    1.1072</td> <td>    0.020</td> <td>   55.892</td> <td> 0.000</td> <td>    1.068     1.147</td>\n",
       "</tr>\n",
       "<tr>\n",
       "  <th>constant</th> <td>  -11.5205</td> <td>    0.361</td> <td>  -31.936</td> <td> 0.000</td> <td>  -12.236   -10.805</td>\n",
       "</tr>\n",
       "</table>\n",
       "<table class=\"simpletable\">\n",
       "<tr>\n",
       "  <th>Omnibus:</th>       <td> 2.947</td> <th>  Durbin-Watson:     </th> <td>   0.985</td>\n",
       "</tr>\n",
       "<tr>\n",
       "  <th>Prob(Omnibus):</th> <td> 0.229</td> <th>  Jarque-Bera (JB):  </th> <td>   2.069</td>\n",
       "</tr>\n",
       "<tr>\n",
       "  <th>Skew:</th>          <td>-0.166</td> <th>  Prob(JB):          </th> <td>   0.355</td>\n",
       "</tr>\n",
       "<tr>\n",
       "  <th>Kurtosis:</th>      <td> 2.378</td> <th>  Cond. No.          </th> <td>    128.</td>\n",
       "</tr>\n",
       "</table>"
      ],
      "text/plain": [
       "<class 'statsmodels.iolib.summary.Summary'>\n",
       "\"\"\"\n",
       "                            GLS Regression Results                            \n",
       "==============================================================================\n",
       "Dep. Variable:                  DMIPS   R-squared:                       0.970\n",
       "Model:                            GLS   Adj. R-squared:                  0.969\n",
       "Method:                 Least Squares   F-statistic:                     3124.\n",
       "Date:                Tue, 24 Nov 2015   Prob (F-statistic):           3.84e-76\n",
       "Time:                        15:30:10   Log-Likelihood:                -74.119\n",
       "No. Observations:                 100   AIC:                             152.2\n",
       "Df Residuals:                      98   BIC:                             157.4\n",
       "Df Model:                           1                                         \n",
       "Covariance Type:            nonrobust                                         \n",
       "==============================================================================\n",
       "                 coef    std err          t      P>|t|      [95.0% Conf. Int.]\n",
       "------------------------------------------------------------------------------\n",
       "logN           1.1072      0.020     55.892      0.000         1.068     1.147\n",
       "constant     -11.5205      0.361    -31.936      0.000       -12.236   -10.805\n",
       "==============================================================================\n",
       "Omnibus:                        2.947   Durbin-Watson:                   0.985\n",
       "Prob(Omnibus):                  0.229   Jarque-Bera (JB):                2.069\n",
       "Skew:                          -0.166   Prob(JB):                        0.355\n",
       "Kurtosis:                       2.378   Cond. No.                         128.\n",
       "==============================================================================\n",
       "\n",
       "Warnings:\n",
       "[1] Standard Errors assume that the covariance matrix of the errors is correctly specified.\n",
       "\"\"\""
      ]
     },
     "execution_count": 9,
     "metadata": {},
     "output_type": "execute_result"
    }
   ],
   "source": [
    "model = sm.GLS(np.log(data.DMIPS),data[['logN','constant']]).fit()\n",
    "model.summary()"
   ]
  },
  {
   "cell_type": "code",
   "execution_count": 31,
   "metadata": {
    "collapsed": false
   },
   "outputs": [],
   "source": [
    "intercept1,cov1 = opt.curve_fit(lambda x, intercept: x +intercept,data.logN,np.log(data.DMIPS))"
   ]
  },
  {
   "cell_type": "code",
   "execution_count": 35,
   "metadata": {
    "collapsed": false
   },
   "outputs": [],
   "source": [
    "Rsquare1 = st.pearsonr(data.logN.values+intercept1,np.log(data.DMIPS.values))[0]**2"
   ]
  },
  {
   "cell_type": "code",
   "execution_count": 10,
   "metadata": {
    "collapsed": true
   },
   "outputs": [],
   "source": [
    "rma_model = RMA.RMARegression(data.logN,np.log(data.DMIPS))"
   ]
  },
  {
   "cell_type": "code",
   "execution_count": 11,
   "metadata": {
    "collapsed": false
   },
   "outputs": [
    {
     "data": {
      "text/plain": [
       "RMAResult(slope=1.1244389183971635, intercept=-11.831082244119958, ci=0.95, slope_ci1=array([ 1.08512697,  1.16375087]), intercept_ci1=array([-12.5396763 , -11.12248819]), slope_ci2=array([ 1.08581396,  1.16443786]), intercept_ci2=array([-12.55205923, -11.13487113]), RSquare=0.96958305320598592)"
      ]
     },
     "execution_count": 11,
     "metadata": {},
     "output_type": "execute_result"
    }
   ],
   "source": [
    "rma_model"
   ]
  },
  {
   "cell_type": "code",
   "execution_count": 39,
   "metadata": {
    "collapsed": false
   },
   "outputs": [
    {
     "data": {
      "text/plain": [
       "<matplotlib.text.Text at 0x7fbefcfe9890>"
      ]
     },
     "execution_count": 39,
     "metadata": {},
     "output_type": "execute_result"
    },
    {
     "data": {
      "image/png": "[encoded data removed]",
      "text/plain": [
       "<matplotlib.figure.Figure at 0x7fbefd84eb50>"
      ]
     },
     "metadata": {},
     "output_type": "display_data"
    }
   ],
   "source": [
    "#plt.scatter(data.N,data.DMIPS,marker='.',c=np.log(data.f),cmap=plt.get_cmap('viridis'),edgecolor='face',s=75)\n",
    "plt.scatter(data.N,data.DMIPS,marker='.',c='k',edgecolor='face',s=50,label='Data')\n",
    "\n",
    "xfit = [data.N.min(),data.N.max()]\n",
    "yfit = [np.exp(model.params['constant'])*xfit[0]**model.params['logN'],\n",
    "        np.exp(model.params['constant'])*xfit[1]**model.params['logN']]\n",
    "plt.plot(xfit,yfit,'r--',label='OLS: $(%1.1e) N^{%1.3f}$, $R^2=%1.3f$'%(np.exp(model.params['constant']),model.params['logN'],model.rsquared))\n",
    "\n",
    "xfit = [data.N.min(),data.N.max()]\n",
    "yfit = [np.exp(intercept1)*xfit[0],\n",
    "        np.exp(intercept1)*xfit[1]]\n",
    "plt.plot(xfit,yfit,'g--',label='Theoretical: $(%1.1e) N^1$, $R^2=%1.3f$'%(np.exp(intercept1),Rsquare1))\n",
    "\n",
    "\n",
    "#xfit = [data.N.min(),data.N.max()]\n",
    "#yfit = [np.exp(rma_model.intercept)*xfit[0]**rma_model.slope,\n",
    "#        np.exp(rma_model.intercept)*xfit[1]**rma_model.slope]\n",
    "#plt.plot(xfit,yfit,'b:',label='RMA: $%1.3f N^{%1.3f}$, $R^2=%1.3f$'%(np.exp(rma_model.intercept),rma_model.slope,rma_model.RSquare))\n",
    "\n",
    "plt.xscale('log')\n",
    "plt.yscale('log')\n",
    "#plt.xlim(10**-3,10**3)\n",
    "#plt.ylim(10**-2,10**5)\n",
    "plt.legend(loc='lower right',fontsize=20,frameon=True)\n",
    "plt.xlabel('\\# of Transistors ($N$)')\n",
    "plt.ylabel('Throughput ($DMIPS$)')"
   ]
  },
  {
   "cell_type": "code",
   "execution_count": null,
   "metadata": {
    "collapsed": false
   },
   "outputs": [],
   "source": [
    "model = sm.GLS(np.log(data.DMIPS),data[['logNf','constant']]).fit()\n",
    "model.summary()"
   ]
  },
  {
   "cell_type": "code",
   "execution_count": null,
   "metadata": {
    "collapsed": false
   },
   "outputs": [],
   "source": [
    "rma_model = RMA.RMARegression(data.logNf,np.log(data.DMIPS))\n",
    "rma_model"
   ]
  },
  {
   "cell_type": "code",
   "execution_count": null,
   "metadata": {
    "collapsed": false
   },
   "outputs": [],
   "source": [
    "#plt.scatter(data.N,data.DMIPS,marker='.',c=np.log(data.f),cmap=plt.get_cmap('viridis'),edgecolor='face',s=75)\n",
    "plt.scatter(data.N*data.f,data.DMIPS,marker='.',c='k',edgecolor='face',s=50,label='Data')\n",
    "\n",
    "xfit = [(data.N*data.f).min(),(data.N*data.f).max()]\n",
    "yfit = [np.exp(model.params['constant'])*xfit[0]**model.params['logNf'],\n",
    "        np.exp(model.params['constant'])*xfit[1]**model.params['logNf']]\n",
    "plt.plot(xfit,yfit,'r--',label='OLS: $%1.3f N^{%1.3f}$, $R^2=%1.3f$'%(np.exp(model.params['constant']),model.params['logNf'],model.rsquared))\n",
    "\n",
    "xfit = [(data.N*data.f).min(),(data.N*data.f).max()]\n",
    "yfit = [np.exp(rma_model.intercept)*xfit[0]**rma_model.slope,\n",
    "        np.exp(rma_model.intercept)*xfit[1]**rma_model.slope]\n",
    "plt.plot(xfit,yfit,'b:',label='RMA: $%1.3f N^{%1.3f}$, $R^2=%1.3f$'%(np.exp(rma_model.intercept),rma_model.slope,rma_model.RSquare))\n",
    "\n",
    "plt.xscale('log')\n",
    "plt.yscale('log')\n",
    "#plt.xlim(10**-3,10**3)\n",
    "#plt.ylim(10**-2,10**5)\n",
    "plt.legend(loc='lower right',fontsize=20,frameon=True)\n",
    "plt.xlabel('\\# of Transistors $\\\\times$ freq. ($N \\\\times f$)')\n",
    "plt.ylabel('Throughput ($DMIPS$)')"
   ]
  }
 ],
 "metadata": {
  "kernelspec": {
   "display_name": "Python 2",
   "language": "python",
   "name": "python2"
  },
  "language_info": {
   "codemirror_mode": {
    "name": "ipython",
    "version": 2
   },
   "file_extension": ".py",
   "mimetype": "text/x-python",
   "name": "python",
   "nbconvert_exporter": "python",
   "pygments_lexer": "ipython2",
   "version": "2.7.10"
  }
 },
 "nbformat": 4,
 "nbformat_minor": 0
}
