{
 "cells": [
  {
   "cell_type": "code",
   "execution_count": 1,
   "metadata": {
    "collapsed": true
   },
   "outputs": [],
   "source": [
    "import pandas as pd\n",
    "import matplotlib.pyplot as plt\n",
    "import numpy as np\n",
    "import scipy.stats as st\n",
    "import scipy.optimize as opt\n",
    "import statsmodels.api as sm\n",
    "import RMA"
   ]
  },
  {
   "cell_type": "code",
   "execution_count": 2,
   "metadata": {
    "collapsed": true
   },
   "outputs": [],
   "source": [
    "import matplotlib as mpl"
   ]
  },
  {
   "cell_type": "code",
   "execution_count": 3,
   "metadata": {
    "collapsed": true
   },
   "outputs": [],
   "source": [
    "%matplotlib inline"
   ]
  },
  {
   "cell_type": "code",
   "execution_count": 4,
   "metadata": {
    "collapsed": false
   },
   "outputs": [],
   "source": [
    "mpl.rcParams['font.family']='serif'\n",
    "mpl.rcParams['font.serif'] = 'Times'\n",
    "mpl.rcParams['font.weight'] = 'bold'\n",
    "mpl.rcParams['text.usetex']=True\n",
    "mpl.rcParams['figure.figsize'] = (10,7.15)\n",
    "mpl.rcParams['xtick.labelsize'] = 22\n",
    "mpl.rcParams['ytick.labelsize'] = 22\n",
    "mpl.rcParams['axes.labelsize'] = 28\n",
    "mpl.rcParams['legend.numpoints'] = 1\n",
    "mpl.rcParams['legend.fontsize'] = 26\n",
    "mpl.rcParams['legend.scatterpoints'] = 1\n",
    "mpl.rcParams['lines.linewidth'] = 2\n",
    "mpl.rcParams['lines.markeredgewidth'] = 0\n",
    "mpl.rcParams['figure.titlesize'] = 28\n",
    "mpl.rcParams['figure.dpi'] = 80\n",
    "mpl.rcParams['image.interpolation'] = 'nearest'\n",
    "mpl.rcParams['savefig.dpi'] = 80\n",
    "mpl.rcParams['patch.linewidth'] = 0.5"
   ]
  },
  {
   "cell_type": "code",
   "execution_count": 5,
   "metadata": {
    "collapsed": true
   },
   "outputs": [],
   "source": [
    "data = pd.read_csv('../data/IntelThroughput.csv')"
   ]
  },
  {
   "cell_type": "code",
   "execution_count": 6,
   "metadata": {
    "collapsed": true
   },
   "outputs": [],
   "source": [
    "data['f'] = data['f']*10**6\n",
    "data['lambda'] = data['lambda']*10**-9\n",
    "data['N'] = data['N']*10**6"
   ]
  },
  {
   "cell_type": "code",
   "execution_count": 7,
   "metadata": {
    "collapsed": false
   },
   "outputs": [],
   "source": [
    "data['constant']= np.ones(len(data))"
   ]
  },
  {
   "cell_type": "code",
   "execution_count": 8,
   "metadata": {
    "collapsed": true
   },
   "outputs": [],
   "source": [
    "data['logN'] = np.log10(data.N)\n",
    "data['logNf'] = np.log10(data.N*data.f)"
   ]
  },
  {
   "cell_type": "code",
   "execution_count": 39,
   "metadata": {
    "collapsed": false
   },
   "outputs": [
    {
     "data": {
      "text/html": [
       "<table class=\"simpletable\">\n",
       "<caption>OLS Regression Results</caption>\n",
       "<tr>\n",
       "  <th>Dep. Variable:</th>          <td>DMIPS</td>      <th>  R-squared:         </th> <td>   0.970</td>\n",
       "</tr>\n",
       "<tr>\n",
       "  <th>Model:</th>                   <td>OLS</td>       <th>  Adj. R-squared:    </th> <td>   0.969</td>\n",
       "</tr>\n",
       "<tr>\n",
       "  <th>Method:</th>             <td>Least Squares</td>  <th>  F-statistic:       </th> <td>   3124.</td>\n",
       "</tr>\n",
       "<tr>\n",
       "  <th>Date:</th>             <td>Fri, 27 Nov 2015</td> <th>  Prob (F-statistic):</th> <td>3.84e-76</td>\n",
       "</tr>\n",
       "<tr>\n",
       "  <th>Time:</th>                 <td>14:47:07</td>     <th>  Log-Likelihood:    </th> <td>  9.2844</td>\n",
       "</tr>\n",
       "<tr>\n",
       "  <th>No. Observations:</th>      <td>   100</td>      <th>  AIC:               </th> <td>  -14.57</td>\n",
       "</tr>\n",
       "<tr>\n",
       "  <th>Df Residuals:</th>          <td>    98</td>      <th>  BIC:               </th> <td>  -9.358</td>\n",
       "</tr>\n",
       "<tr>\n",
       "  <th>Df Model:</th>              <td>     1</td>      <th>                     </th>     <td> </td>   \n",
       "</tr>\n",
       "<tr>\n",
       "  <th>Covariance Type:</th>      <td>nonrobust</td>    <th>                     </th>     <td> </td>   \n",
       "</tr>\n",
       "</table>\n",
       "<table class=\"simpletable\">\n",
       "<tr>\n",
       "      <td></td>        <th>coef</th>     <th>std err</th>      <th>t</th>      <th>P>|t|</th> <th>[95.0% Conf. Int.]</th> \n",
       "</tr>\n",
       "<tr>\n",
       "  <th>logN</th>     <td>    1.1072</td> <td>    0.020</td> <td>   55.892</td> <td> 0.000</td> <td>    1.068     1.147</td>\n",
       "</tr>\n",
       "<tr>\n",
       "  <th>constant</th> <td>   -5.0033</td> <td>    0.157</td> <td>  -31.936</td> <td> 0.000</td> <td>   -5.314    -4.692</td>\n",
       "</tr>\n",
       "</table>\n",
       "<table class=\"simpletable\">\n",
       "<tr>\n",
       "  <th>Omnibus:</th>       <td> 2.947</td> <th>  Durbin-Watson:     </th> <td>   0.985</td>\n",
       "</tr>\n",
       "<tr>\n",
       "  <th>Prob(Omnibus):</th> <td> 0.229</td> <th>  Jarque-Bera (JB):  </th> <td>   2.069</td>\n",
       "</tr>\n",
       "<tr>\n",
       "  <th>Skew:</th>          <td>-0.166</td> <th>  Prob(JB):          </th> <td>   0.355</td>\n",
       "</tr>\n",
       "<tr>\n",
       "  <th>Kurtosis:</th>      <td> 2.378</td> <th>  Cond. No.          </th> <td>    56.5</td>\n",
       "</tr>\n",
       "</table>"
      ],
      "text/plain": [
       "<class 'statsmodels.iolib.summary.Summary'>\n",
       "\"\"\"\n",
       "                            OLS Regression Results                            \n",
       "==============================================================================\n",
       "Dep. Variable:                  DMIPS   R-squared:                       0.970\n",
       "Model:                            OLS   Adj. R-squared:                  0.969\n",
       "Method:                 Least Squares   F-statistic:                     3124.\n",
       "Date:                Fri, 27 Nov 2015   Prob (F-statistic):           3.84e-76\n",
       "Time:                        14:47:07   Log-Likelihood:                 9.2844\n",
       "No. Observations:                 100   AIC:                            -14.57\n",
       "Df Residuals:                      98   BIC:                            -9.358\n",
       "Df Model:                           1                                         \n",
       "Covariance Type:            nonrobust                                         \n",
       "==============================================================================\n",
       "                 coef    std err          t      P>|t|      [95.0% Conf. Int.]\n",
       "------------------------------------------------------------------------------\n",
       "logN           1.1072      0.020     55.892      0.000         1.068     1.147\n",
       "constant      -5.0033      0.157    -31.936      0.000        -5.314    -4.692\n",
       "==============================================================================\n",
       "Omnibus:                        2.947   Durbin-Watson:                   0.985\n",
       "Prob(Omnibus):                  0.229   Jarque-Bera (JB):                2.069\n",
       "Skew:                          -0.166   Prob(JB):                        0.355\n",
       "Kurtosis:                       2.378   Cond. No.                         56.5\n",
       "==============================================================================\n",
       "\n",
       "Warnings:\n",
       "[1] Standard Errors assume that the covariance matrix of the errors is correctly specified.\n",
       "\"\"\""
      ]
     },
     "execution_count": 39,
     "metadata": {},
     "output_type": "execute_result"
    }
   ],
   "source": [
    "model = sm.OLS(np.log10(data.DMIPS),data[['logN','constant']]).fit()\n",
    "model.summary()"
   ]
  },
  {
   "cell_type": "code",
   "execution_count": 60,
   "metadata": {
    "collapsed": false
   },
   "outputs": [],
   "source": [
    "intercept2,cov2 = opt.curve_fit(lambda x, intercept: x +intercept,data.logN,np.log10(data.DMIPS))\n",
    "i2 = 10**model.predict([data.logN.min(),1])/(data.N.min()**1.0)"
   ]
  },
  {
   "cell_type": "code",
   "execution_count": 21,
   "metadata": {
    "collapsed": false
   },
   "outputs": [],
   "source": [
    "Rsquare1 = st.pearsonr(data.logN.values+intercept1,np.log(data.DMIPS.values))[0]**2"
   ]
  },
  {
   "cell_type": "code",
   "execution_count": 61,
   "metadata": {
    "collapsed": true
   },
   "outputs": [],
   "source": [
    "intercept1,cov1 = opt.curve_fit(lambda x, intercept: 1.5*x +intercept,data.logN,np.log10(data.DMIPS))\n",
    "i1 = 10**model.predict([data.logN.min(),1])/(data.N.min()**1.5)"
   ]
  },
  {
   "cell_type": "code",
   "execution_count": 52,
   "metadata": {
    "collapsed": false
   },
   "outputs": [
    {
     "data": {
      "text/plain": [
       "2300.0"
      ]
     },
     "execution_count": 52,
     "metadata": {},
     "output_type": "execute_result"
    }
   ],
   "source": [
    "data.N.min()"
   ]
  },
  {
   "cell_type": "code",
   "execution_count": 63,
   "metadata": {
    "collapsed": false
   },
   "outputs": [
    {
     "data": {
      "image/png": "[encoded data removed]",
      "text/plain": [
       "<matplotlib.figure.Figure at 0x7fa561640510>"
      ]
     },
     "metadata": {},
     "output_type": "display_data"
    }
   ],
   "source": [
    "#plt.scatter(data.N,data.DMIPS,marker='.',c=np.log(data.f),cmap=plt.get_cmap('viridis'),edgecolor='face',s=75)\n",
    "plt.scatter(data.N,data.DMIPS,marker='o',c='k',edgecolor='w',linewidths=0.5,label='Data')\n",
    "\n",
    "xfit = [data.N.min(),data.N.max()]\n",
    "yfit = [i1*(xfit[0]**1.5),\n",
    "        i1*(xfit[1]**1.5)]\n",
    "plt.plot(xfit,yfit,'g:',lw=1,label='Theory (Node Bound Delay): $P \\propto N^{1.5}$')\n",
    "\n",
    "xfit = [data.N.min(),data.N.max()]\n",
    "yfit = [i2*xfit[0],\n",
    "        i2*xfit[1]]\n",
    "plt.plot(xfit,yfit,'b-',lw=1,label='Theory (Network Bound Delay): $P \\propto N^1$')#, $R^2=%1.2f$'%(Rsquare1))\n",
    "\n",
    "\n",
    "\n",
    "xfit = [data.N.min(),data.N.max()]\n",
    "yfit = [10**(model.params['constant'])*xfit[0]**model.params['logN'],\n",
    "        10**(model.params['constant'])*xfit[1]**model.params['logN']]\n",
    "plt.plot(xfit,yfit,'r--',lw=3,label='Best Fit: $P \\propto N^{1.11}$')#, $R^2=%1.2f$'%(model.rsquared))\n",
    "\n",
    "\n",
    "\n",
    "#xfit = [data.N.min(),data.N.max()]\n",
    "#yfit = [np.exp(rma_model.intercept)*xfit[0]**rma_model.slope,\n",
    "#        np.exp(rma_model.intercept)*xfit[1]**rma_model.slope]\n",
    "#plt.plot(xfit,yfit,'b:',label='RMA: $%1.3f N^{%1.3f}$, $R^2=%1.3f$'%(np.exp(rma_model.intercept),rma_model.slope,rma_model.RSquare))\n",
    "\n",
    "plt.xscale('log')\n",
    "plt.yscale('log')\n",
    "#plt.xlim(10**-3,10**3)\n",
    "plt.ylim(10**-2,10**10)\n",
    "plt.legend(loc='upper left',fontsize=18,frameon=False)\n",
    "plt.xlabel('\\# of Transistors ($N$)')\n",
    "plt.ylabel('Throughput ($DMIPS$)')\n",
    "plt.savefig('../Figures/ChipsThroughputScaling.pdf',dpi=600)"
   ]
  },
  {
   "cell_type": "code",
   "execution_count": null,
   "metadata": {
    "collapsed": false
   },
   "outputs": [],
   "source": [
    "model = sm.GLS(np.log(data.DMIPS),data[['logNf','constant']]).fit()\n",
    "model.summary()"
   ]
  },
  {
   "cell_type": "code",
   "execution_count": null,
   "metadata": {
    "collapsed": false
   },
   "outputs": [],
   "source": [
    "rma_model = RMA.RMARegression(data.logNf,np.log(data.DMIPS))\n",
    "rma_model"
   ]
  },
  {
   "cell_type": "code",
   "execution_count": null,
   "metadata": {
    "collapsed": false
   },
   "outputs": [],
   "source": [
    "#plt.scatter(data.N,data.DMIPS,marker='.',c=np.log(data.f),cmap=plt.get_cmap('viridis'),edgecolor='face',s=75)\n",
    "plt.scatter(data.N*data.f,data.DMIPS,marker='.',c='k',edgecolor='face',s=50,label='Data')\n",
    "\n",
    "xfit = [(data.N*data.f).min(),(data.N*data.f).max()]\n",
    "yfit = [np.exp(model.params['constant'])*xfit[0]**model.params['logNf'],\n",
    "        np.exp(model.params['constant'])*xfit[1]**model.params['logNf']]\n",
    "plt.plot(xfit,yfit,'r--',label='OLS: $%1.3f N^{%1.3f}$, $R^2=%1.3f$'%(np.exp(model.params['constant']),model.params['logNf'],model.rsquared))\n",
    "\n",
    "xfit = [(data.N*data.f).min(),(data.N*data.f).max()]\n",
    "yfit = [np.exp(rma_model.intercept)*xfit[0]**rma_model.slope,\n",
    "        np.exp(rma_model.intercept)*xfit[1]**rma_model.slope]\n",
    "plt.plot(xfit,yfit,'b:',label='RMA: $%1.3f N^{%1.3f}$, $R^2=%1.3f$'%(np.exp(rma_model.intercept),rma_model.slope,rma_model.RSquare))\n",
    "\n",
    "plt.xscale('log')\n",
    "plt.yscale('log')\n",
    "#plt.xlim(10**-3,10**3)\n",
    "#plt.ylim(10**-2,10**5)\n",
    "plt.legend(loc='lower right',fontsize=20,frameon=True)\n",
    "plt.xlabel('\\# of Transistors $\\\\times$ freq. ($N \\\\times f$)')\n",
    "plt.ylabel('Throughput ($DMIPS$)')"
   ]
  }
 ],
 "metadata": {
  "kernelspec": {
   "display_name": "Python 2",
   "language": "python",
   "name": "python2"
  },
  "language_info": {
   "codemirror_mode": {
    "name": "ipython",
    "version": 2
   },
   "file_extension": ".py",
   "mimetype": "text/x-python",
   "name": "python",
   "nbconvert_exporter": "python",
   "pygments_lexer": "ipython2",
   "version": "2.7.10"
  }
 },
 "nbformat": 4,
 "nbformat_minor": 0
}
